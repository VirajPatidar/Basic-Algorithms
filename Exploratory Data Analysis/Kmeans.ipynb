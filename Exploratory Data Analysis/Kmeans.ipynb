{
  "nbformat": 4,
  "nbformat_minor": 0,
  "metadata": {
    "colab": {
      "name": "1914065_Exp6_Kmeans.ipynb",
      "provenance": []
    },
    "kernelspec": {
      "name": "python3",
      "display_name": "Python 3"
    },
    "language_info": {
      "name": "python"
    }
  },
  "cells": [
    {
      "cell_type": "code",
      "source": [
        "from random import uniform, shuffle"
      ],
      "metadata": {
        "id": "9CS2TgFu6WlZ"
      },
      "execution_count": null,
      "outputs": []
    },
    {
      "cell_type": "code",
      "execution_count": null,
      "metadata": {
        "id": "D6U62EQ41X1z"
      },
      "outputs": [],
      "source": [
        "def ReadData(filename):\n",
        "  f = open(filename, 'r')\n",
        "  lines = f.read().splitlines()\n",
        "  f.close()\n",
        "\n",
        "  items = list()\n",
        "\n",
        "  for i in range(1, len(lines)):\n",
        "    line = lines[i].split(',')\n",
        "    itemFeatures = list()\n",
        "\n",
        "    for j in range(len(line)):\n",
        "      v = float(line[j])\n",
        "      itemFeatures.append(v)\n",
        "\n",
        "    items.append(itemFeatures)\n",
        "\n",
        "  # shuffle(items)\n",
        "\n",
        "  return items"
      ]
    },
    {
      "cell_type": "code",
      "source": [
        "import sys\n",
        "\n",
        "def FindColMinMax(items):\n",
        "  n = len(items[0])\n",
        "  minima = [sys.maxsize for i in range(n)] #[1, 2]\n",
        "  maxima = [-sys.maxsize - 1 for i in range(n)] #[8, 10]\n",
        "\n",
        "  for item in items:\n",
        "    for f in range(len(item)):\n",
        "      if item[f] < minima[f]:\n",
        "        minima[f] = item[f]\n",
        "\n",
        "      if item[f] > maxima[f]:\n",
        "        maxima[f] = item[f]\n",
        "\n",
        "  return minima, maxima"
      ],
      "metadata": {
        "id": "M4HXwwVf3Vgb"
      },
      "execution_count": null,
      "outputs": []
    },
    {
      "cell_type": "code",
      "source": [
        "def InitializeMeans(items, k, cMin, cMax):   #k = 3, #[1, 2], #[8, 10]\n",
        "  f = len(items[0]) #2\n",
        "  means = [[0 for i in range(f)] for j in range(k)] # [3, 5], [4, 6], [5, 5]\n",
        "    \n",
        "  for mean in means:\n",
        "    for i in range(len(mean)):\n",
        "      mean[i] = uniform(cMin[i] + 1, cMax[i] - 1)\n",
        "\n",
        "  return means"
      ],
      "metadata": {
        "id": "pTaKJmO05ijB"
      },
      "execution_count": null,
      "outputs": []
    },
    {
      "cell_type": "code",
      "source": [
        "import math\n",
        "\n",
        "def EuclideanDistance(x, y):\n",
        "  S = 0\n",
        "  for i in range(len(x)):\n",
        "    S += math.pow(x[i] - y[i], 2)\n",
        "\n",
        "  return math.sqrt(S)"
      ],
      "metadata": {
        "id": "3GumQNbW6hCv"
      },
      "execution_count": null,
      "outputs": []
    },
    {
      "cell_type": "code",
      "source": [
        "def manhattanDistance(x, y):\n",
        "  return abs(x[0] - y[0]) + abs(x[1] - y[1])"
      ],
      "metadata": {
        "id": "a2UhfFCcC2P4"
      },
      "execution_count": null,
      "outputs": []
    },
    {
      "cell_type": "code",
      "source": [
        "def UpdateMean(n, mean, item):   # 1, [4, 6], [2, 5]\n",
        "  for i in range(len(mean)):\n",
        "    m = mean[i] # 4\n",
        "    m = (m * (n - 1) + item[i]) / float(n) \n",
        "    mean[i] = round(m, 3)\n",
        "    \n",
        "  return mean;  # [2, 10]"
      ],
      "metadata": {
        "id": "Rsb_mLUl66TO"
      },
      "execution_count": null,
      "outputs": []
    },
    {
      "cell_type": "code",
      "source": [
        "def Classify(means, item): # [2, 10], [4, 6], [5, 5]; [2, 5]\n",
        "  minimum = sys.maxsize # inf\n",
        "  index = -1\n",
        "\n",
        "  for i in range(len(means)):\n",
        "    dis = manhattanDistance(item, means[i])\n",
        "\n",
        "    if (dis < minimum):\n",
        "      minimum = dis\n",
        "      index = i\n",
        "    \n",
        "  return index"
      ],
      "metadata": {
        "id": "09PGw58z7GWR"
      },
      "execution_count": null,
      "outputs": []
    },
    {
      "cell_type": "code",
      "source": [
        "def FindClusters(means, items):\n",
        "  clusters = [[] for i in range(len(means))]\n",
        "    \n",
        "  for item in items:\n",
        "    index = Classify(means,item)\n",
        "    clusters[index].append(item)\n",
        "\n",
        "  return clusters;"
      ],
      "metadata": {
        "id": "mdGMEwe-7hX1"
      },
      "execution_count": null,
      "outputs": []
    },
    {
      "cell_type": "code",
      "source": [
        "def CalculateMeans(k, items, maxIterations=100000):\n",
        "  cMin, cMax = FindColMinMax(items)\n",
        "  means = InitializeMeans(items, k, cMin, cMax) # [3, 5], [4, 6], [5, 5]\n",
        "  clusterSizes= [0 for i in range(len(means))]; # [1, 1, 0]\n",
        "\n",
        "  belongsTo = [-1 for i in range(len(items))]; # [0, 1, -1, -1, -1, -1, -1, -1]\n",
        "\n",
        "  for e in range(maxIterations):\n",
        "      noChange = True;\n",
        "      for i in range(len(items)):\n",
        "        item = items[i] #[2, 5]\n",
        "        index = Classify(means, item); # index = 1\n",
        "\n",
        "        clusterSizes[index] += 1\n",
        "        cSize = clusterSizes[index]  # 1\n",
        "        means[index] = UpdateMean(cSize, means[index], item); # [2, 5]\n",
        "\n",
        "        if index != belongsTo[i]:\n",
        "            noChange = False\n",
        "\n",
        "        belongsTo[i] = index;\n",
        "\n",
        "      if (noChange):\n",
        "          break;\n",
        "\n",
        "  return means;"
      ],
      "metadata": {
        "id": "iBrENqLo7Qc_"
      },
      "execution_count": null,
      "outputs": []
    },
    {
      "cell_type": "code",
      "source": [
        "items = ReadData('data.txt')\n",
        "CalculateMeans(3, items, 4)"
      ],
      "metadata": {
        "colab": {
          "base_uri": "https://localhost:8080/"
        },
        "id": "qqm2c1qkB6du",
        "outputId": "b153fb67-746b-4b58-ae9e-1f659fcda793"
      },
      "execution_count": null,
      "outputs": [
        {
          "output_type": "execute_result",
          "data": {
            "text/plain": [
              "[[4.5, 8.5], [1.5, 3.5], [7.0, 4.333]]"
            ]
          },
          "metadata": {},
          "execution_count": 11
        }
      ]
    }
  ]
}