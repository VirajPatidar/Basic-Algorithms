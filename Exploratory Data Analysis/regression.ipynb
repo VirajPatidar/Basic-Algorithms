{
  "nbformat": 4,
  "nbformat_minor": 0,
  "metadata": {
    "colab": {
      "name": "1914065_Exp3_Inlab.ipynb",
      "provenance": []
    },
    "kernelspec": {
      "name": "python3",
      "display_name": "Python 3"
    },
    "language_info": {
      "name": "python"
    }
  },
  "cells": [
    {
      "cell_type": "code",
      "execution_count": 9,
      "metadata": {
        "id": "hjLwanlKR4JP"
      },
      "outputs": [],
      "source": [
        "import numpy as np\n",
        "from sklearn.linear_model import LinearRegression"
      ]
    },
    {
      "cell_type": "markdown",
      "source": [
        "# Providing Data"
      ],
      "metadata": {
        "id": "h7klzmcLSaun"
      }
    },
    {
      "cell_type": "markdown",
      "source": [
        "### Data for Linear Regression"
      ],
      "metadata": {
        "id": "tQ3UsdqbSs-S"
      }
    },
    {
      "cell_type": "code",
      "source": [
        "# x=np.array([5,15,25,35,45,55]).reshape((-1,1))\n",
        "# y=np.array([5,20,14,32,22,38])"
      ],
      "metadata": {
        "id": "E2UbAuapSyFS"
      },
      "execution_count": 10,
      "outputs": []
    },
    {
      "cell_type": "markdown",
      "source": [
        "### Data for Multiple Linear Regression"
      ],
      "metadata": {
        "id": "CB61YHy5Smim"
      }
    },
    {
      "cell_type": "code",
      "source": [
        "x=[[0,1],[5,1],[15,2],[25,5],[35,11],[45,15],[55,34],[60,35]]\n",
        "y=[4,5,20,14,32,22,38,43]\n",
        "x,y=np.array(x),np.array(y)"
      ],
      "metadata": {
        "id": "W8zByax3ScRU"
      },
      "execution_count": 11,
      "outputs": []
    },
    {
      "cell_type": "code",
      "source": [
        "print(x)\n",
        "print(y)"
      ],
      "metadata": {
        "colab": {
          "base_uri": "https://localhost:8080/"
        },
        "id": "9ZHq4YRvR9us",
        "outputId": "9a8ca648-4080-4ada-e4df-9861e5a7b578"
      },
      "execution_count": 12,
      "outputs": [
        {
          "output_type": "stream",
          "name": "stdout",
          "text": [
            "[[ 0  1]\n",
            " [ 5  1]\n",
            " [15  2]\n",
            " [25  5]\n",
            " [35 11]\n",
            " [45 15]\n",
            " [55 34]\n",
            " [60 35]]\n",
            "[ 4  5 20 14 32 22 38 43]\n"
          ]
        }
      ]
    },
    {
      "cell_type": "markdown",
      "source": [
        "# Create a Model and Fit it"
      ],
      "metadata": {
        "id": "S2BhNCk8SUzs"
      }
    },
    {
      "cell_type": "code",
      "source": [
        "model=LinearRegression()\n",
        "model.fit(x,y)\n",
        "model=LinearRegression().fit(x,y)\n",
        "r_sq=model.score(x,y)\n",
        "print('coefficient of deterination:',r_sq)"
      ],
      "metadata": {
        "colab": {
          "base_uri": "https://localhost:8080/"
        },
        "id": "A9mWe9cbR_kA",
        "outputId": "08bb269b-45dd-4146-aab3-51e672b70d6a"
      },
      "execution_count": 13,
      "outputs": [
        {
          "output_type": "stream",
          "name": "stdout",
          "text": [
            "coefficient of deterination: 0.8615939258756775\n"
          ]
        }
      ]
    },
    {
      "cell_type": "code",
      "source": [
        "print('intercept:',model.intercept_)\n",
        "print('slope:',model.coef_)"
      ],
      "metadata": {
        "colab": {
          "base_uri": "https://localhost:8080/"
        },
        "id": "W656sGUNSBGG",
        "outputId": "56c813c1-db2f-4621-a29e-0196a80bb63d"
      },
      "execution_count": 14,
      "outputs": [
        {
          "output_type": "stream",
          "name": "stdout",
          "text": [
            "intercept: 5.52257927519819\n",
            "slope: [0.44706965 0.25502548]\n"
          ]
        }
      ]
    },
    {
      "cell_type": "markdown",
      "source": [
        "# Get Results"
      ],
      "metadata": {
        "id": "X9gg-sqFTgKj"
      }
    },
    {
      "cell_type": "code",
      "source": [
        "new_model=LinearRegression().fit(x,y.reshape((-1,1)))\n",
        "print('intercept:',new_model.intercept_)\n",
        "print('slope:',new_model.coef_)"
      ],
      "metadata": {
        "colab": {
          "base_uri": "https://localhost:8080/"
        },
        "id": "etuRncS0SCgC",
        "outputId": "9991f06c-1794-4a1a-816d-1a2688580732"
      },
      "execution_count": 15,
      "outputs": [
        {
          "output_type": "stream",
          "name": "stdout",
          "text": [
            "intercept: [5.52257928]\n",
            "slope: [[0.44706965 0.25502548]]\n"
          ]
        }
      ]
    },
    {
      "cell_type": "markdown",
      "source": [
        "# Predicted Model"
      ],
      "metadata": {
        "id": "Ef01GdB7SGGL"
      }
    },
    {
      "cell_type": "code",
      "source": [
        "y_pred=model.intercept_+model.coef_*x\n",
        "print('predictated model:',y_pred,sep='\\n')"
      ],
      "metadata": {
        "colab": {
          "base_uri": "https://localhost:8080/"
        },
        "id": "RaJxxD_oSD9K",
        "outputId": "d2341f1c-f79c-42e9-f47d-f9a53f797870"
      },
      "execution_count": 16,
      "outputs": [
        {
          "output_type": "stream",
          "name": "stdout",
          "text": [
            "predictated model:\n",
            "[[ 5.52257928  5.77760476]\n",
            " [ 7.75792752  5.77760476]\n",
            " [12.22862401  6.03263024]\n",
            " [16.6993205   6.79770668]\n",
            " [21.17001699  8.32785957]\n",
            " [25.64071348  9.34796149]\n",
            " [30.11140997 14.19344564]\n",
            " [32.34675821 14.44847112]]\n"
          ]
        }
      ]
    }
  ]
}