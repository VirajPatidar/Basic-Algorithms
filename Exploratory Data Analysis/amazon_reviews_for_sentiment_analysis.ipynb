{
  "cells": [
    {
      "cell_type": "code",
      "source": [
        "!pip install --upgrade --no-cache-dir gdown"
      ],
      "metadata": {
        "id": "H8NGq_2DDnJ_",
        "colab": {
          "base_uri": "https://localhost:8080/"
        },
        "outputId": "cc3551c6-4596-4bbf-b8f4-1adbee64b408"
      },
      "execution_count": null,
      "outputs": [
        {
          "output_type": "stream",
          "name": "stdout",
          "text": [
            "Requirement already satisfied: gdown in /usr/local/lib/python3.7/dist-packages (4.2.2)\n",
            "Collecting gdown\n",
            "  Downloading gdown-4.4.0.tar.gz (14 kB)\n",
            "  Installing build dependencies ... \u001b[?25l\u001b[?25hdone\n",
            "  Getting requirements to build wheel ... \u001b[?25l\u001b[?25hdone\n",
            "    Preparing wheel metadata ... \u001b[?25l\u001b[?25hdone\n",
            "Requirement already satisfied: filelock in /usr/local/lib/python3.7/dist-packages (from gdown) (3.6.0)\n",
            "Requirement already satisfied: tqdm in /usr/local/lib/python3.7/dist-packages (from gdown) (4.63.0)\n",
            "Requirement already satisfied: requests[socks] in /usr/local/lib/python3.7/dist-packages (from gdown) (2.23.0)\n",
            "Requirement already satisfied: beautifulsoup4 in /usr/local/lib/python3.7/dist-packages (from gdown) (4.6.3)\n",
            "Requirement already satisfied: six in /usr/local/lib/python3.7/dist-packages (from gdown) (1.15.0)\n",
            "Requirement already satisfied: urllib3!=1.25.0,!=1.25.1,<1.26,>=1.21.1 in /usr/local/lib/python3.7/dist-packages (from requests[socks]->gdown) (1.24.3)\n",
            "Requirement already satisfied: certifi>=2017.4.17 in /usr/local/lib/python3.7/dist-packages (from requests[socks]->gdown) (2021.10.8)\n",
            "Requirement already satisfied: chardet<4,>=3.0.2 in /usr/local/lib/python3.7/dist-packages (from requests[socks]->gdown) (3.0.4)\n",
            "Requirement already satisfied: idna<3,>=2.5 in /usr/local/lib/python3.7/dist-packages (from requests[socks]->gdown) (2.10)\n",
            "Requirement already satisfied: PySocks!=1.5.7,>=1.5.6 in /usr/local/lib/python3.7/dist-packages (from requests[socks]->gdown) (1.7.1)\n",
            "Building wheels for collected packages: gdown\n",
            "  Building wheel for gdown (PEP 517) ... \u001b[?25l\u001b[?25hdone\n",
            "  Created wheel for gdown: filename=gdown-4.4.0-py3-none-any.whl size=14774 sha256=069c474f7884a07d0cefc9b8b34e3a054a5292da645442d3c4b5422fbfba3a87\n",
            "  Stored in directory: /tmp/pip-ephem-wheel-cache-noz4vowm/wheels/fb/c3/0e/c4d8ff8bfcb0461afff199471449f642179b74968c15b7a69c\n",
            "Successfully built gdown\n",
            "Installing collected packages: gdown\n",
            "  Attempting uninstall: gdown\n",
            "    Found existing installation: gdown 4.2.2\n",
            "    Uninstalling gdown-4.2.2:\n",
            "      Successfully uninstalled gdown-4.2.2\n",
            "Successfully installed gdown-4.4.0\n"
          ]
        }
      ]
    },
    {
      "cell_type": "code",
      "source": [
        "! gdown --id 1RwO05N7cTzOWDnL748KNw3q6b62UWLfm"
      ],
      "metadata": {
        "id": "r0CyQEbkBgLs",
        "colab": {
          "base_uri": "https://localhost:8080/"
        },
        "outputId": "97c7544e-8e70-4b93-98f5-a2870053b307"
      },
      "execution_count": null,
      "outputs": [
        {
          "output_type": "stream",
          "name": "stdout",
          "text": [
            "/usr/local/lib/python3.7/dist-packages/gdown/cli.py:131: FutureWarning: Option `--id` was deprecated in version 4.3.1 and will be removed in 5.0. You don't need to pass it anymore to use a file ID.\n",
            "  category=FutureWarning,\n",
            "Downloading...\n",
            "From: https://drive.google.com/uc?id=1RwO05N7cTzOWDnL748KNw3q6b62UWLfm\n",
            "To: /content/train.ft.txt.bz2\n",
            "100% 464M/464M [00:07<00:00, 66.1MB/s]\n"
          ]
        }
      ]
    },
    {
      "cell_type": "code",
      "source": [
        "! gdown --id 1wsqrvQ4tzJFIPrTyji-3DsnKGwTLauFz"
      ],
      "metadata": {
        "id": "es-bUy6vCC-r",
        "colab": {
          "base_uri": "https://localhost:8080/"
        },
        "outputId": "6203b0b6-68b3-4731-b49e-7de85ec1ae2f"
      },
      "execution_count": null,
      "outputs": [
        {
          "output_type": "stream",
          "name": "stdout",
          "text": [
            "/usr/local/lib/python3.7/dist-packages/gdown/cli.py:131: FutureWarning: Option `--id` was deprecated in version 4.3.1 and will be removed in 5.0. You don't need to pass it anymore to use a file ID.\n",
            "  category=FutureWarning,\n",
            "Downloading...\n",
            "From: https://drive.google.com/uc?id=1wsqrvQ4tzJFIPrTyji-3DsnKGwTLauFz\n",
            "To: /content/test.ft.txt.bz2\n",
            "100% 52.7M/52.7M [00:01<00:00, 34.7MB/s]\n"
          ]
        }
      ]
    },
    {
      "cell_type": "code",
      "execution_count": null,
      "metadata": {
        "_cell_guid": "b1076dfc-b9ad-4769-8c92-a6c4dae69d19",
        "_uuid": "8f2839f25d086af736a60e9eeb907d3b93b6e0e5",
        "execution": {
          "iopub.execute_input": "2021-01-15T13:28:33.599088Z",
          "iopub.status.busy": "2021-01-15T13:28:33.598558Z",
          "iopub.status.idle": "2021-01-15T13:28:33.614749Z",
          "shell.execute_reply": "2021-01-15T13:28:33.614193Z"
        },
        "papermill": {
          "duration": 0.046988,
          "end_time": "2021-01-15T13:28:33.614850",
          "exception": false,
          "start_time": "2021-01-15T13:28:33.567862",
          "status": "completed"
        },
        "scrolled": true,
        "tags": [],
        "id": "g221WGyuamR5"
      },
      "outputs": [],
      "source": [
        "# This Python 3 environment comes with many helpful analytics libraries installed\n",
        "# It is defined by the kaggle/python Docker image: https://github.com/kaggle/docker-python\n",
        "# For example, here's several helpful packages to load\n",
        "\n",
        "import numpy as np # linear algebra\n",
        "import pandas as pd # data processing, CSV file I/O (e.g. pd.read_csv)\n",
        "\n",
        "# Input data files are available in the read-only \"../input/\" directory\n",
        "# For example, running this (by clicking run or pressing Shift+Enter) will list all files under the input directory\n",
        "\n",
        "# import os\n",
        "# for dirname, _, filenames in os.walk('/kaggle/input'):\n",
        "#     for filename in filenames:\n",
        "#         print(os.path.join(dirname, filename))\n",
        "\n",
        "        \n",
        "# You can write up to 5GB to the current directory (/kaggle/working/) that gets preserved as output when you create a version using \"Save & Run All\" \n",
        "# You can also write temporary files to /kaggle/temp/, but they won't be saved outside of the current session"
      ]
    },
    {
      "cell_type": "code",
      "execution_count": null,
      "metadata": {
        "execution": {
          "iopub.execute_input": "2021-01-15T13:28:33.671896Z",
          "iopub.status.busy": "2021-01-15T13:28:33.671212Z",
          "iopub.status.idle": "2021-01-15T13:28:33.673580Z",
          "shell.execute_reply": "2021-01-15T13:28:33.674086Z"
        },
        "papermill": {
          "duration": 0.032923,
          "end_time": "2021-01-15T13:28:33.674185",
          "exception": false,
          "start_time": "2021-01-15T13:28:33.641262",
          "status": "completed"
        },
        "scrolled": true,
        "tags": [],
        "id": "Os8iDOt8amR7"
      },
      "outputs": [],
      "source": [
        "import bz2\n",
        "import pandas as pd\n",
        "import re \n",
        "import numpy as np"
      ]
    },
    {
      "cell_type": "code",
      "execution_count": null,
      "metadata": {
        "_cell_guid": "79c7e3d0-c299-4dcb-8224-4455121ee9b0",
        "_uuid": "d629ff2d2480ee46fbb7e2d37f6b5fab8052498a",
        "execution": {
          "iopub.execute_input": "2021-01-15T13:28:33.728125Z",
          "iopub.status.busy": "2021-01-15T13:28:33.727598Z",
          "iopub.status.idle": "2021-01-15T13:28:33.732572Z",
          "shell.execute_reply": "2021-01-15T13:28:33.732051Z"
        },
        "papermill": {
          "duration": 0.033253,
          "end_time": "2021-01-15T13:28:33.732709",
          "exception": false,
          "start_time": "2021-01-15T13:28:33.699456",
          "status": "completed"
        },
        "scrolled": true,
        "tags": [],
        "id": "8UoSRMLYamR8"
      },
      "outputs": [],
      "source": [
        "#Import Dataset\n",
        "train_file = bz2.BZ2File('train.ft.txt.bz2')\n",
        "test_file = bz2.BZ2File('test.ft.txt.bz2')"
      ]
    },
    {
      "cell_type": "markdown",
      "metadata": {
        "papermill": {
          "duration": 0.025003,
          "end_time": "2021-01-15T13:28:33.783227",
          "exception": false,
          "start_time": "2021-01-15T13:28:33.758224",
          "status": "completed"
        },
        "tags": [],
        "id": "wTMTlWIuamR8"
      },
      "source": [
        "# ***Reading Dataset***"
      ]
    },
    {
      "cell_type": "code",
      "execution_count": null,
      "metadata": {
        "execution": {
          "iopub.execute_input": "2021-01-15T13:28:33.837523Z",
          "iopub.status.busy": "2021-01-15T13:28:33.836976Z",
          "iopub.status.idle": "2021-01-15T13:30:18.428454Z",
          "shell.execute_reply": "2021-01-15T13:30:18.427550Z"
        },
        "papermill": {
          "duration": 104.619898,
          "end_time": "2021-01-15T13:30:18.428609",
          "exception": false,
          "start_time": "2021-01-15T13:28:33.808711",
          "status": "completed"
        },
        "scrolled": true,
        "tags": [],
        "id": "RGlDmvs9amR-"
      },
      "outputs": [],
      "source": [
        "#Reading Data set\n",
        "train_file = train_file.readlines()\n",
        "test_file = test_file.readlines()\n"
      ]
    },
    {
      "cell_type": "code",
      "execution_count": null,
      "metadata": {
        "execution": {
          "iopub.execute_input": "2021-01-15T13:30:18.709467Z",
          "iopub.status.busy": "2021-01-15T13:30:18.708591Z",
          "iopub.status.idle": "2021-01-15T13:30:18.713210Z",
          "shell.execute_reply": "2021-01-15T13:30:18.714235Z"
        },
        "papermill": {
          "duration": 0.245653,
          "end_time": "2021-01-15T13:30:18.714556",
          "exception": false,
          "start_time": "2021-01-15T13:30:18.468903",
          "status": "completed"
        },
        "scrolled": true,
        "tags": [],
        "id": "KD1EJhRuamR-",
        "colab": {
          "base_uri": "https://localhost:8080/"
        },
        "outputId": "6352b0d8-ab5b-4d5a-956f-4d78ad0857a2"
      },
      "outputs": [
        {
          "output_type": "stream",
          "name": "stdout",
          "text": [
            "Number of training reivews: 3600000\n",
            "Number of test reviews: 400000\n"
          ]
        }
      ],
      "source": [
        "print(\"Number of training reivews: \" + str(len(train_file)))\n",
        "print(\"Number of test reviews: \" + str(len(test_file)))"
      ]
    },
    {
      "cell_type": "code",
      "execution_count": null,
      "metadata": {
        "execution": {
          "iopub.execute_input": "2021-01-15T13:30:19.165479Z",
          "iopub.status.busy": "2021-01-15T13:30:18.858641Z",
          "iopub.status.idle": "2021-01-15T13:30:19.208011Z",
          "shell.execute_reply": "2021-01-15T13:30:19.207540Z"
        },
        "papermill": {
          "duration": 0.436667,
          "end_time": "2021-01-15T13:30:19.208105",
          "exception": false,
          "start_time": "2021-01-15T13:30:18.771438",
          "status": "completed"
        },
        "scrolled": true,
        "tags": [],
        "id": "khNR2pDoamR_"
      },
      "outputs": [],
      "source": [
        "#training on the first 10000 reviews in the  dataset\n",
        "num_train = 100000\n",
        "#Using 2000 reviews from test set\n",
        "num_test = 20000#Using 200,000 reviews from test set\n",
        "\n",
        "train_file = [x.decode('utf-8') for x in train_file[:num_train]]\n",
        "test_file = [x.decode('utf-8') for x in test_file[:num_test]]"
      ]
    },
    {
      "cell_type": "code",
      "execution_count": null,
      "metadata": {
        "execution": {
          "iopub.execute_input": "2021-01-15T13:30:19.317824Z",
          "iopub.status.busy": "2021-01-15T13:30:19.302311Z",
          "iopub.status.idle": "2021-01-15T13:30:19.839649Z",
          "shell.execute_reply": "2021-01-15T13:30:19.839139Z"
        },
        "papermill": {
          "duration": 0.602235,
          "end_time": "2021-01-15T13:30:19.839747",
          "exception": false,
          "start_time": "2021-01-15T13:30:19.237512",
          "status": "completed"
        },
        "scrolled": true,
        "tags": [],
        "id": "luWvKjojamSA"
      },
      "outputs": [],
      "source": [
        "#Extracing Labels and Review from traing Dataset\n",
        "train_labels = [0 if x.split(' ')[0] == '__label__1' else 1 for x in train_file]\n",
        "train_sentences = [x.split(' ', 1)[1][:-1].lower() for x in train_file]"
      ]
    },
    {
      "cell_type": "code",
      "execution_count": null,
      "metadata": {
        "execution": {
          "iopub.execute_input": "2021-01-15T13:30:19.942769Z",
          "iopub.status.busy": "2021-01-15T13:30:19.937507Z",
          "iopub.status.idle": "2021-01-15T13:30:20.024251Z",
          "shell.execute_reply": "2021-01-15T13:30:20.023750Z"
        },
        "papermill": {
          "duration": 0.154154,
          "end_time": "2021-01-15T13:30:20.024341",
          "exception": false,
          "start_time": "2021-01-15T13:30:19.870187",
          "status": "completed"
        },
        "scrolled": true,
        "tags": [],
        "id": "c9Ok0iU0amSA"
      },
      "outputs": [],
      "source": [
        "#Extracing Labels and Review from test Dataset\n",
        "test_labels = [0 if x.split(' ')[0] == '__label__1' else 1 for x in test_file]\n",
        "test_sentences = [x.split(' ', 1)[1][:-1].lower() for x in test_file]"
      ]
    },
    {
      "cell_type": "markdown",
      "metadata": {
        "papermill": {
          "duration": 0.029816,
          "end_time": "2021-01-15T13:30:20.083621",
          "exception": false,
          "start_time": "2021-01-15T13:30:20.053805",
          "status": "completed"
        },
        "tags": [],
        "id": "aTfU8hjRamSB"
      },
      "source": [
        "# ***Creating Data Frame***"
      ]
    },
    {
      "cell_type": "code",
      "execution_count": null,
      "metadata": {
        "execution": {
          "iopub.execute_input": "2021-01-15T13:30:20.165090Z",
          "iopub.status.busy": "2021-01-15T13:30:20.164575Z",
          "iopub.status.idle": "2021-01-15T13:30:20.228569Z",
          "shell.execute_reply": "2021-01-15T13:30:20.227672Z"
        },
        "papermill": {
          "duration": 0.115944,
          "end_time": "2021-01-15T13:30:20.228697",
          "exception": false,
          "start_time": "2021-01-15T13:30:20.112753",
          "status": "completed"
        },
        "tags": [],
        "id": "pimvfL7AamSC"
      },
      "outputs": [],
      "source": [
        "train = pd.DataFrame({'text':train_sentences,'label':train_labels})\n",
        "test=pd.DataFrame({'text':test_sentences,'label':test_labels})"
      ]
    },
    {
      "cell_type": "code",
      "execution_count": null,
      "metadata": {
        "execution": {
          "iopub.execute_input": "2021-01-15T13:30:20.303629Z",
          "iopub.status.busy": "2021-01-15T13:30:20.303116Z",
          "iopub.status.idle": "2021-01-15T13:30:20.311109Z",
          "shell.execute_reply": "2021-01-15T13:30:20.311529Z"
        },
        "papermill": {
          "duration": 0.054472,
          "end_time": "2021-01-15T13:30:20.311638",
          "exception": false,
          "start_time": "2021-01-15T13:30:20.257166",
          "status": "completed"
        },
        "tags": [],
        "id": "KqeafRjkamSC",
        "colab": {
          "base_uri": "https://localhost:8080/",
          "height": 206
        },
        "outputId": "22484fa6-bd65-49d8-989f-58df79809ff8"
      },
      "outputs": [
        {
          "output_type": "execute_result",
          "data": {
            "text/plain": [
              "                                                text  label\n",
              "0  stuning even for the non-gamer: this sound tra...      1\n",
              "1  the best soundtrack ever to anything.: i'm rea...      1\n",
              "2  amazing!: this soundtrack is my favorite music...      1\n",
              "3  excellent soundtrack: i truly like this soundt...      1\n",
              "4  remember, pull your jaw off the floor after he...      1"
            ],
            "text/html": [
              "\n",
              "  <div id=\"df-2aa174c4-b707-49eb-9377-284c7f4fcb0f\">\n",
              "    <div class=\"colab-df-container\">\n",
              "      <div>\n",
              "<style scoped>\n",
              "    .dataframe tbody tr th:only-of-type {\n",
              "        vertical-align: middle;\n",
              "    }\n",
              "\n",
              "    .dataframe tbody tr th {\n",
              "        vertical-align: top;\n",
              "    }\n",
              "\n",
              "    .dataframe thead th {\n",
              "        text-align: right;\n",
              "    }\n",
              "</style>\n",
              "<table border=\"1\" class=\"dataframe\">\n",
              "  <thead>\n",
              "    <tr style=\"text-align: right;\">\n",
              "      <th></th>\n",
              "      <th>text</th>\n",
              "      <th>label</th>\n",
              "    </tr>\n",
              "  </thead>\n",
              "  <tbody>\n",
              "    <tr>\n",
              "      <th>0</th>\n",
              "      <td>stuning even for the non-gamer: this sound tra...</td>\n",
              "      <td>1</td>\n",
              "    </tr>\n",
              "    <tr>\n",
              "      <th>1</th>\n",
              "      <td>the best soundtrack ever to anything.: i'm rea...</td>\n",
              "      <td>1</td>\n",
              "    </tr>\n",
              "    <tr>\n",
              "      <th>2</th>\n",
              "      <td>amazing!: this soundtrack is my favorite music...</td>\n",
              "      <td>1</td>\n",
              "    </tr>\n",
              "    <tr>\n",
              "      <th>3</th>\n",
              "      <td>excellent soundtrack: i truly like this soundt...</td>\n",
              "      <td>1</td>\n",
              "    </tr>\n",
              "    <tr>\n",
              "      <th>4</th>\n",
              "      <td>remember, pull your jaw off the floor after he...</td>\n",
              "      <td>1</td>\n",
              "    </tr>\n",
              "  </tbody>\n",
              "</table>\n",
              "</div>\n",
              "      <button class=\"colab-df-convert\" onclick=\"convertToInteractive('df-2aa174c4-b707-49eb-9377-284c7f4fcb0f')\"\n",
              "              title=\"Convert this dataframe to an interactive table.\"\n",
              "              style=\"display:none;\">\n",
              "        \n",
              "  <svg xmlns=\"http://www.w3.org/2000/svg\" height=\"24px\"viewBox=\"0 0 24 24\"\n",
              "       width=\"24px\">\n",
              "    <path d=\"M0 0h24v24H0V0z\" fill=\"none\"/>\n",
              "    <path d=\"M18.56 5.44l.94 2.06.94-2.06 2.06-.94-2.06-.94-.94-2.06-.94 2.06-2.06.94zm-11 1L8.5 8.5l.94-2.06 2.06-.94-2.06-.94L8.5 2.5l-.94 2.06-2.06.94zm10 10l.94 2.06.94-2.06 2.06-.94-2.06-.94-.94-2.06-.94 2.06-2.06.94z\"/><path d=\"M17.41 7.96l-1.37-1.37c-.4-.4-.92-.59-1.43-.59-.52 0-1.04.2-1.43.59L10.3 9.45l-7.72 7.72c-.78.78-.78 2.05 0 2.83L4 21.41c.39.39.9.59 1.41.59.51 0 1.02-.2 1.41-.59l7.78-7.78 2.81-2.81c.8-.78.8-2.07 0-2.86zM5.41 20L4 18.59l7.72-7.72 1.47 1.35L5.41 20z\"/>\n",
              "  </svg>\n",
              "      </button>\n",
              "      \n",
              "  <style>\n",
              "    .colab-df-container {\n",
              "      display:flex;\n",
              "      flex-wrap:wrap;\n",
              "      gap: 12px;\n",
              "    }\n",
              "\n",
              "    .colab-df-convert {\n",
              "      background-color: #E8F0FE;\n",
              "      border: none;\n",
              "      border-radius: 50%;\n",
              "      cursor: pointer;\n",
              "      display: none;\n",
              "      fill: #1967D2;\n",
              "      height: 32px;\n",
              "      padding: 0 0 0 0;\n",
              "      width: 32px;\n",
              "    }\n",
              "\n",
              "    .colab-df-convert:hover {\n",
              "      background-color: #E2EBFA;\n",
              "      box-shadow: 0px 1px 2px rgba(60, 64, 67, 0.3), 0px 1px 3px 1px rgba(60, 64, 67, 0.15);\n",
              "      fill: #174EA6;\n",
              "    }\n",
              "\n",
              "    [theme=dark] .colab-df-convert {\n",
              "      background-color: #3B4455;\n",
              "      fill: #D2E3FC;\n",
              "    }\n",
              "\n",
              "    [theme=dark] .colab-df-convert:hover {\n",
              "      background-color: #434B5C;\n",
              "      box-shadow: 0px 1px 3px 1px rgba(0, 0, 0, 0.15);\n",
              "      filter: drop-shadow(0px 1px 2px rgba(0, 0, 0, 0.3));\n",
              "      fill: #FFFFFF;\n",
              "    }\n",
              "  </style>\n",
              "\n",
              "      <script>\n",
              "        const buttonEl =\n",
              "          document.querySelector('#df-2aa174c4-b707-49eb-9377-284c7f4fcb0f button.colab-df-convert');\n",
              "        buttonEl.style.display =\n",
              "          google.colab.kernel.accessAllowed ? 'block' : 'none';\n",
              "\n",
              "        async function convertToInteractive(key) {\n",
              "          const element = document.querySelector('#df-2aa174c4-b707-49eb-9377-284c7f4fcb0f');\n",
              "          const dataTable =\n",
              "            await google.colab.kernel.invokeFunction('convertToInteractive',\n",
              "                                                     [key], {});\n",
              "          if (!dataTable) return;\n",
              "\n",
              "          const docLinkHtml = 'Like what you see? Visit the ' +\n",
              "            '<a target=\"_blank\" href=https://colab.research.google.com/notebooks/data_table.ipynb>data table notebook</a>'\n",
              "            + ' to learn more about interactive tables.';\n",
              "          element.innerHTML = '';\n",
              "          dataTable['output_type'] = 'display_data';\n",
              "          await google.colab.output.renderOutput(dataTable, element);\n",
              "          const docLink = document.createElement('div');\n",
              "          docLink.innerHTML = docLinkHtml;\n",
              "          element.appendChild(docLink);\n",
              "        }\n",
              "      </script>\n",
              "    </div>\n",
              "  </div>\n",
              "  "
            ]
          },
          "metadata": {},
          "execution_count": 13
        }
      ],
      "source": [
        "train.head()"
      ]
    },
    {
      "cell_type": "code",
      "execution_count": null,
      "metadata": {
        "execution": {
          "iopub.execute_input": "2021-01-15T13:30:20.383288Z",
          "iopub.status.busy": "2021-01-15T13:30:20.382228Z",
          "iopub.status.idle": "2021-01-15T13:30:20.395917Z",
          "shell.execute_reply": "2021-01-15T13:30:20.395456Z"
        },
        "papermill": {
          "duration": 0.055672,
          "end_time": "2021-01-15T13:30:20.395998",
          "exception": false,
          "start_time": "2021-01-15T13:30:20.340326",
          "status": "completed"
        },
        "tags": [],
        "id": "BdoUbHR_amSD",
        "colab": {
          "base_uri": "https://localhost:8080/",
          "height": 300
        },
        "outputId": "f9d3347a-51ee-431d-a1ea-548deb1ebc65"
      },
      "outputs": [
        {
          "output_type": "execute_result",
          "data": {
            "text/plain": [
              "               label\n",
              "count  100000.000000\n",
              "mean        0.512670\n",
              "std         0.499842\n",
              "min         0.000000\n",
              "25%         0.000000\n",
              "50%         1.000000\n",
              "75%         1.000000\n",
              "max         1.000000"
            ],
            "text/html": [
              "\n",
              "  <div id=\"df-4c87abc6-f50d-4200-a57e-de7f614407e3\">\n",
              "    <div class=\"colab-df-container\">\n",
              "      <div>\n",
              "<style scoped>\n",
              "    .dataframe tbody tr th:only-of-type {\n",
              "        vertical-align: middle;\n",
              "    }\n",
              "\n",
              "    .dataframe tbody tr th {\n",
              "        vertical-align: top;\n",
              "    }\n",
              "\n",
              "    .dataframe thead th {\n",
              "        text-align: right;\n",
              "    }\n",
              "</style>\n",
              "<table border=\"1\" class=\"dataframe\">\n",
              "  <thead>\n",
              "    <tr style=\"text-align: right;\">\n",
              "      <th></th>\n",
              "      <th>label</th>\n",
              "    </tr>\n",
              "  </thead>\n",
              "  <tbody>\n",
              "    <tr>\n",
              "      <th>count</th>\n",
              "      <td>100000.000000</td>\n",
              "    </tr>\n",
              "    <tr>\n",
              "      <th>mean</th>\n",
              "      <td>0.512670</td>\n",
              "    </tr>\n",
              "    <tr>\n",
              "      <th>std</th>\n",
              "      <td>0.499842</td>\n",
              "    </tr>\n",
              "    <tr>\n",
              "      <th>min</th>\n",
              "      <td>0.000000</td>\n",
              "    </tr>\n",
              "    <tr>\n",
              "      <th>25%</th>\n",
              "      <td>0.000000</td>\n",
              "    </tr>\n",
              "    <tr>\n",
              "      <th>50%</th>\n",
              "      <td>1.000000</td>\n",
              "    </tr>\n",
              "    <tr>\n",
              "      <th>75%</th>\n",
              "      <td>1.000000</td>\n",
              "    </tr>\n",
              "    <tr>\n",
              "      <th>max</th>\n",
              "      <td>1.000000</td>\n",
              "    </tr>\n",
              "  </tbody>\n",
              "</table>\n",
              "</div>\n",
              "      <button class=\"colab-df-convert\" onclick=\"convertToInteractive('df-4c87abc6-f50d-4200-a57e-de7f614407e3')\"\n",
              "              title=\"Convert this dataframe to an interactive table.\"\n",
              "              style=\"display:none;\">\n",
              "        \n",
              "  <svg xmlns=\"http://www.w3.org/2000/svg\" height=\"24px\"viewBox=\"0 0 24 24\"\n",
              "       width=\"24px\">\n",
              "    <path d=\"M0 0h24v24H0V0z\" fill=\"none\"/>\n",
              "    <path d=\"M18.56 5.44l.94 2.06.94-2.06 2.06-.94-2.06-.94-.94-2.06-.94 2.06-2.06.94zm-11 1L8.5 8.5l.94-2.06 2.06-.94-2.06-.94L8.5 2.5l-.94 2.06-2.06.94zm10 10l.94 2.06.94-2.06 2.06-.94-2.06-.94-.94-2.06-.94 2.06-2.06.94z\"/><path d=\"M17.41 7.96l-1.37-1.37c-.4-.4-.92-.59-1.43-.59-.52 0-1.04.2-1.43.59L10.3 9.45l-7.72 7.72c-.78.78-.78 2.05 0 2.83L4 21.41c.39.39.9.59 1.41.59.51 0 1.02-.2 1.41-.59l7.78-7.78 2.81-2.81c.8-.78.8-2.07 0-2.86zM5.41 20L4 18.59l7.72-7.72 1.47 1.35L5.41 20z\"/>\n",
              "  </svg>\n",
              "      </button>\n",
              "      \n",
              "  <style>\n",
              "    .colab-df-container {\n",
              "      display:flex;\n",
              "      flex-wrap:wrap;\n",
              "      gap: 12px;\n",
              "    }\n",
              "\n",
              "    .colab-df-convert {\n",
              "      background-color: #E8F0FE;\n",
              "      border: none;\n",
              "      border-radius: 50%;\n",
              "      cursor: pointer;\n",
              "      display: none;\n",
              "      fill: #1967D2;\n",
              "      height: 32px;\n",
              "      padding: 0 0 0 0;\n",
              "      width: 32px;\n",
              "    }\n",
              "\n",
              "    .colab-df-convert:hover {\n",
              "      background-color: #E2EBFA;\n",
              "      box-shadow: 0px 1px 2px rgba(60, 64, 67, 0.3), 0px 1px 3px 1px rgba(60, 64, 67, 0.15);\n",
              "      fill: #174EA6;\n",
              "    }\n",
              "\n",
              "    [theme=dark] .colab-df-convert {\n",
              "      background-color: #3B4455;\n",
              "      fill: #D2E3FC;\n",
              "    }\n",
              "\n",
              "    [theme=dark] .colab-df-convert:hover {\n",
              "      background-color: #434B5C;\n",
              "      box-shadow: 0px 1px 3px 1px rgba(0, 0, 0, 0.15);\n",
              "      filter: drop-shadow(0px 1px 2px rgba(0, 0, 0, 0.3));\n",
              "      fill: #FFFFFF;\n",
              "    }\n",
              "  </style>\n",
              "\n",
              "      <script>\n",
              "        const buttonEl =\n",
              "          document.querySelector('#df-4c87abc6-f50d-4200-a57e-de7f614407e3 button.colab-df-convert');\n",
              "        buttonEl.style.display =\n",
              "          google.colab.kernel.accessAllowed ? 'block' : 'none';\n",
              "\n",
              "        async function convertToInteractive(key) {\n",
              "          const element = document.querySelector('#df-4c87abc6-f50d-4200-a57e-de7f614407e3');\n",
              "          const dataTable =\n",
              "            await google.colab.kernel.invokeFunction('convertToInteractive',\n",
              "                                                     [key], {});\n",
              "          if (!dataTable) return;\n",
              "\n",
              "          const docLinkHtml = 'Like what you see? Visit the ' +\n",
              "            '<a target=\"_blank\" href=https://colab.research.google.com/notebooks/data_table.ipynb>data table notebook</a>'\n",
              "            + ' to learn more about interactive tables.';\n",
              "          element.innerHTML = '';\n",
              "          dataTable['output_type'] = 'display_data';\n",
              "          await google.colab.output.renderOutput(dataTable, element);\n",
              "          const docLink = document.createElement('div');\n",
              "          docLink.innerHTML = docLinkHtml;\n",
              "          element.appendChild(docLink);\n",
              "        }\n",
              "      </script>\n",
              "    </div>\n",
              "  </div>\n",
              "  "
            ]
          },
          "metadata": {},
          "execution_count": 14
        }
      ],
      "source": [
        "train.describe()"
      ]
    },
    {
      "cell_type": "code",
      "execution_count": null,
      "metadata": {
        "execution": {
          "iopub.execute_input": "2021-01-15T13:30:20.493105Z",
          "iopub.status.busy": "2021-01-15T13:30:20.476684Z",
          "iopub.status.idle": "2021-01-15T13:30:21.787420Z",
          "shell.execute_reply": "2021-01-15T13:30:21.786817Z"
        },
        "papermill": {
          "duration": 1.360644,
          "end_time": "2021-01-15T13:30:21.787529",
          "exception": false,
          "start_time": "2021-01-15T13:30:20.426885",
          "status": "completed"
        },
        "tags": [],
        "id": "gy-QdRWXamSD",
        "colab": {
          "base_uri": "https://localhost:8080/",
          "height": 206
        },
        "outputId": "f3cb6d73-7f3a-46db-ee2c-aa135bf65442"
      },
      "outputs": [
        {
          "output_type": "execute_result",
          "data": {
            "text/plain": [
              "                                                text  label  number_of_words\n",
              "0  stuning even for the non-gamer: this sound tra...      1               80\n",
              "1  the best soundtrack ever to anything.: i'm rea...      1               97\n",
              "2  amazing!: this soundtrack is my favorite music...      1              129\n",
              "3  excellent soundtrack: i truly like this soundt...      1              118\n",
              "4  remember, pull your jaw off the floor after he...      1               87"
            ],
            "text/html": [
              "\n",
              "  <div id=\"df-ab8c4454-b497-453c-9552-5075d916b0e2\">\n",
              "    <div class=\"colab-df-container\">\n",
              "      <div>\n",
              "<style scoped>\n",
              "    .dataframe tbody tr th:only-of-type {\n",
              "        vertical-align: middle;\n",
              "    }\n",
              "\n",
              "    .dataframe tbody tr th {\n",
              "        vertical-align: top;\n",
              "    }\n",
              "\n",
              "    .dataframe thead th {\n",
              "        text-align: right;\n",
              "    }\n",
              "</style>\n",
              "<table border=\"1\" class=\"dataframe\">\n",
              "  <thead>\n",
              "    <tr style=\"text-align: right;\">\n",
              "      <th></th>\n",
              "      <th>text</th>\n",
              "      <th>label</th>\n",
              "      <th>number_of_words</th>\n",
              "    </tr>\n",
              "  </thead>\n",
              "  <tbody>\n",
              "    <tr>\n",
              "      <th>0</th>\n",
              "      <td>stuning even for the non-gamer: this sound tra...</td>\n",
              "      <td>1</td>\n",
              "      <td>80</td>\n",
              "    </tr>\n",
              "    <tr>\n",
              "      <th>1</th>\n",
              "      <td>the best soundtrack ever to anything.: i'm rea...</td>\n",
              "      <td>1</td>\n",
              "      <td>97</td>\n",
              "    </tr>\n",
              "    <tr>\n",
              "      <th>2</th>\n",
              "      <td>amazing!: this soundtrack is my favorite music...</td>\n",
              "      <td>1</td>\n",
              "      <td>129</td>\n",
              "    </tr>\n",
              "    <tr>\n",
              "      <th>3</th>\n",
              "      <td>excellent soundtrack: i truly like this soundt...</td>\n",
              "      <td>1</td>\n",
              "      <td>118</td>\n",
              "    </tr>\n",
              "    <tr>\n",
              "      <th>4</th>\n",
              "      <td>remember, pull your jaw off the floor after he...</td>\n",
              "      <td>1</td>\n",
              "      <td>87</td>\n",
              "    </tr>\n",
              "  </tbody>\n",
              "</table>\n",
              "</div>\n",
              "      <button class=\"colab-df-convert\" onclick=\"convertToInteractive('df-ab8c4454-b497-453c-9552-5075d916b0e2')\"\n",
              "              title=\"Convert this dataframe to an interactive table.\"\n",
              "              style=\"display:none;\">\n",
              "        \n",
              "  <svg xmlns=\"http://www.w3.org/2000/svg\" height=\"24px\"viewBox=\"0 0 24 24\"\n",
              "       width=\"24px\">\n",
              "    <path d=\"M0 0h24v24H0V0z\" fill=\"none\"/>\n",
              "    <path d=\"M18.56 5.44l.94 2.06.94-2.06 2.06-.94-2.06-.94-.94-2.06-.94 2.06-2.06.94zm-11 1L8.5 8.5l.94-2.06 2.06-.94-2.06-.94L8.5 2.5l-.94 2.06-2.06.94zm10 10l.94 2.06.94-2.06 2.06-.94-2.06-.94-.94-2.06-.94 2.06-2.06.94z\"/><path d=\"M17.41 7.96l-1.37-1.37c-.4-.4-.92-.59-1.43-.59-.52 0-1.04.2-1.43.59L10.3 9.45l-7.72 7.72c-.78.78-.78 2.05 0 2.83L4 21.41c.39.39.9.59 1.41.59.51 0 1.02-.2 1.41-.59l7.78-7.78 2.81-2.81c.8-.78.8-2.07 0-2.86zM5.41 20L4 18.59l7.72-7.72 1.47 1.35L5.41 20z\"/>\n",
              "  </svg>\n",
              "      </button>\n",
              "      \n",
              "  <style>\n",
              "    .colab-df-container {\n",
              "      display:flex;\n",
              "      flex-wrap:wrap;\n",
              "      gap: 12px;\n",
              "    }\n",
              "\n",
              "    .colab-df-convert {\n",
              "      background-color: #E8F0FE;\n",
              "      border: none;\n",
              "      border-radius: 50%;\n",
              "      cursor: pointer;\n",
              "      display: none;\n",
              "      fill: #1967D2;\n",
              "      height: 32px;\n",
              "      padding: 0 0 0 0;\n",
              "      width: 32px;\n",
              "    }\n",
              "\n",
              "    .colab-df-convert:hover {\n",
              "      background-color: #E2EBFA;\n",
              "      box-shadow: 0px 1px 2px rgba(60, 64, 67, 0.3), 0px 1px 3px 1px rgba(60, 64, 67, 0.15);\n",
              "      fill: #174EA6;\n",
              "    }\n",
              "\n",
              "    [theme=dark] .colab-df-convert {\n",
              "      background-color: #3B4455;\n",
              "      fill: #D2E3FC;\n",
              "    }\n",
              "\n",
              "    [theme=dark] .colab-df-convert:hover {\n",
              "      background-color: #434B5C;\n",
              "      box-shadow: 0px 1px 3px 1px rgba(0, 0, 0, 0.15);\n",
              "      filter: drop-shadow(0px 1px 2px rgba(0, 0, 0, 0.3));\n",
              "      fill: #FFFFFF;\n",
              "    }\n",
              "  </style>\n",
              "\n",
              "      <script>\n",
              "        const buttonEl =\n",
              "          document.querySelector('#df-ab8c4454-b497-453c-9552-5075d916b0e2 button.colab-df-convert');\n",
              "        buttonEl.style.display =\n",
              "          google.colab.kernel.accessAllowed ? 'block' : 'none';\n",
              "\n",
              "        async function convertToInteractive(key) {\n",
              "          const element = document.querySelector('#df-ab8c4454-b497-453c-9552-5075d916b0e2');\n",
              "          const dataTable =\n",
              "            await google.colab.kernel.invokeFunction('convertToInteractive',\n",
              "                                                     [key], {});\n",
              "          if (!dataTable) return;\n",
              "\n",
              "          const docLinkHtml = 'Like what you see? Visit the ' +\n",
              "            '<a target=\"_blank\" href=https://colab.research.google.com/notebooks/data_table.ipynb>data table notebook</a>'\n",
              "            + ' to learn more about interactive tables.';\n",
              "          element.innerHTML = '';\n",
              "          dataTable['output_type'] = 'display_data';\n",
              "          await google.colab.output.renderOutput(dataTable, element);\n",
              "          const docLink = document.createElement('div');\n",
              "          docLink.innerHTML = docLinkHtml;\n",
              "          element.appendChild(docLink);\n",
              "        }\n",
              "      </script>\n",
              "    </div>\n",
              "  </div>\n",
              "  "
            ]
          },
          "metadata": {},
          "execution_count": 15
        }
      ],
      "source": [
        "train['number_of_words'] = train['text'].str.lower().str.split().apply(len)\n",
        "train.head()"
      ]
    },
    {
      "cell_type": "code",
      "execution_count": null,
      "metadata": {
        "execution": {
          "iopub.execute_input": "2021-01-15T13:30:21.891061Z",
          "iopub.status.busy": "2021-01-15T13:30:21.875350Z",
          "iopub.status.idle": "2021-01-15T13:30:22.167731Z",
          "shell.execute_reply": "2021-01-15T13:30:22.167255Z"
        },
        "papermill": {
          "duration": 0.350239,
          "end_time": "2021-01-15T13:30:22.167825",
          "exception": false,
          "start_time": "2021-01-15T13:30:21.817586",
          "status": "completed"
        },
        "tags": [],
        "id": "jhzmjLEeamSD",
        "colab": {
          "base_uri": "https://localhost:8080/",
          "height": 206
        },
        "outputId": "2eff312c-ee15-4844-85a5-34632e0cd1dc"
      },
      "outputs": [
        {
          "output_type": "execute_result",
          "data": {
            "text/plain": [
              "                                                text  label  number_of_words\n",
              "0  great cd: my lovely pat has one of the great v...      1              106\n",
              "1  one of the best game music soundtracks - for a...      1              148\n",
              "2  batteries died within a year ...: i bought thi...      0               60\n",
              "3  works fine, but maha energy is better: check o...      1               37\n",
              "4  great for the non-audiophile: reviewed quite a...      1               69"
            ],
            "text/html": [
              "\n",
              "  <div id=\"df-e47b053b-6cbe-4f40-bd75-3c009efbdb18\">\n",
              "    <div class=\"colab-df-container\">\n",
              "      <div>\n",
              "<style scoped>\n",
              "    .dataframe tbody tr th:only-of-type {\n",
              "        vertical-align: middle;\n",
              "    }\n",
              "\n",
              "    .dataframe tbody tr th {\n",
              "        vertical-align: top;\n",
              "    }\n",
              "\n",
              "    .dataframe thead th {\n",
              "        text-align: right;\n",
              "    }\n",
              "</style>\n",
              "<table border=\"1\" class=\"dataframe\">\n",
              "  <thead>\n",
              "    <tr style=\"text-align: right;\">\n",
              "      <th></th>\n",
              "      <th>text</th>\n",
              "      <th>label</th>\n",
              "      <th>number_of_words</th>\n",
              "    </tr>\n",
              "  </thead>\n",
              "  <tbody>\n",
              "    <tr>\n",
              "      <th>0</th>\n",
              "      <td>great cd: my lovely pat has one of the great v...</td>\n",
              "      <td>1</td>\n",
              "      <td>106</td>\n",
              "    </tr>\n",
              "    <tr>\n",
              "      <th>1</th>\n",
              "      <td>one of the best game music soundtracks - for a...</td>\n",
              "      <td>1</td>\n",
              "      <td>148</td>\n",
              "    </tr>\n",
              "    <tr>\n",
              "      <th>2</th>\n",
              "      <td>batteries died within a year ...: i bought thi...</td>\n",
              "      <td>0</td>\n",
              "      <td>60</td>\n",
              "    </tr>\n",
              "    <tr>\n",
              "      <th>3</th>\n",
              "      <td>works fine, but maha energy is better: check o...</td>\n",
              "      <td>1</td>\n",
              "      <td>37</td>\n",
              "    </tr>\n",
              "    <tr>\n",
              "      <th>4</th>\n",
              "      <td>great for the non-audiophile: reviewed quite a...</td>\n",
              "      <td>1</td>\n",
              "      <td>69</td>\n",
              "    </tr>\n",
              "  </tbody>\n",
              "</table>\n",
              "</div>\n",
              "      <button class=\"colab-df-convert\" onclick=\"convertToInteractive('df-e47b053b-6cbe-4f40-bd75-3c009efbdb18')\"\n",
              "              title=\"Convert this dataframe to an interactive table.\"\n",
              "              style=\"display:none;\">\n",
              "        \n",
              "  <svg xmlns=\"http://www.w3.org/2000/svg\" height=\"24px\"viewBox=\"0 0 24 24\"\n",
              "       width=\"24px\">\n",
              "    <path d=\"M0 0h24v24H0V0z\" fill=\"none\"/>\n",
              "    <path d=\"M18.56 5.44l.94 2.06.94-2.06 2.06-.94-2.06-.94-.94-2.06-.94 2.06-2.06.94zm-11 1L8.5 8.5l.94-2.06 2.06-.94-2.06-.94L8.5 2.5l-.94 2.06-2.06.94zm10 10l.94 2.06.94-2.06 2.06-.94-2.06-.94-.94-2.06-.94 2.06-2.06.94z\"/><path d=\"M17.41 7.96l-1.37-1.37c-.4-.4-.92-.59-1.43-.59-.52 0-1.04.2-1.43.59L10.3 9.45l-7.72 7.72c-.78.78-.78 2.05 0 2.83L4 21.41c.39.39.9.59 1.41.59.51 0 1.02-.2 1.41-.59l7.78-7.78 2.81-2.81c.8-.78.8-2.07 0-2.86zM5.41 20L4 18.59l7.72-7.72 1.47 1.35L5.41 20z\"/>\n",
              "  </svg>\n",
              "      </button>\n",
              "      \n",
              "  <style>\n",
              "    .colab-df-container {\n",
              "      display:flex;\n",
              "      flex-wrap:wrap;\n",
              "      gap: 12px;\n",
              "    }\n",
              "\n",
              "    .colab-df-convert {\n",
              "      background-color: #E8F0FE;\n",
              "      border: none;\n",
              "      border-radius: 50%;\n",
              "      cursor: pointer;\n",
              "      display: none;\n",
              "      fill: #1967D2;\n",
              "      height: 32px;\n",
              "      padding: 0 0 0 0;\n",
              "      width: 32px;\n",
              "    }\n",
              "\n",
              "    .colab-df-convert:hover {\n",
              "      background-color: #E2EBFA;\n",
              "      box-shadow: 0px 1px 2px rgba(60, 64, 67, 0.3), 0px 1px 3px 1px rgba(60, 64, 67, 0.15);\n",
              "      fill: #174EA6;\n",
              "    }\n",
              "\n",
              "    [theme=dark] .colab-df-convert {\n",
              "      background-color: #3B4455;\n",
              "      fill: #D2E3FC;\n",
              "    }\n",
              "\n",
              "    [theme=dark] .colab-df-convert:hover {\n",
              "      background-color: #434B5C;\n",
              "      box-shadow: 0px 1px 3px 1px rgba(0, 0, 0, 0.15);\n",
              "      filter: drop-shadow(0px 1px 2px rgba(0, 0, 0, 0.3));\n",
              "      fill: #FFFFFF;\n",
              "    }\n",
              "  </style>\n",
              "\n",
              "      <script>\n",
              "        const buttonEl =\n",
              "          document.querySelector('#df-e47b053b-6cbe-4f40-bd75-3c009efbdb18 button.colab-df-convert');\n",
              "        buttonEl.style.display =\n",
              "          google.colab.kernel.accessAllowed ? 'block' : 'none';\n",
              "\n",
              "        async function convertToInteractive(key) {\n",
              "          const element = document.querySelector('#df-e47b053b-6cbe-4f40-bd75-3c009efbdb18');\n",
              "          const dataTable =\n",
              "            await google.colab.kernel.invokeFunction('convertToInteractive',\n",
              "                                                     [key], {});\n",
              "          if (!dataTable) return;\n",
              "\n",
              "          const docLinkHtml = 'Like what you see? Visit the ' +\n",
              "            '<a target=\"_blank\" href=https://colab.research.google.com/notebooks/data_table.ipynb>data table notebook</a>'\n",
              "            + ' to learn more about interactive tables.';\n",
              "          element.innerHTML = '';\n",
              "          dataTable['output_type'] = 'display_data';\n",
              "          await google.colab.output.renderOutput(dataTable, element);\n",
              "          const docLink = document.createElement('div');\n",
              "          docLink.innerHTML = docLinkHtml;\n",
              "          element.appendChild(docLink);\n",
              "        }\n",
              "      </script>\n",
              "    </div>\n",
              "  </div>\n",
              "  "
            ]
          },
          "metadata": {},
          "execution_count": 16
        }
      ],
      "source": [
        "test['number_of_words'] = test['text'].str.lower().str.split().apply(len)\n",
        "test.head()"
      ]
    },
    {
      "cell_type": "markdown",
      "metadata": {
        "papermill": {
          "duration": 0.029458,
          "end_time": "2021-01-15T13:30:22.226782",
          "exception": false,
          "start_time": "2021-01-15T13:30:22.197324",
          "status": "completed"
        },
        "tags": [],
        "id": "9HZnZYZ4amSD"
      },
      "source": [
        "# *Data Visulaization*"
      ]
    },
    {
      "cell_type": "code",
      "execution_count": null,
      "metadata": {
        "execution": {
          "iopub.execute_input": "2021-01-15T13:30:22.290651Z",
          "iopub.status.busy": "2021-01-15T13:30:22.289891Z",
          "iopub.status.idle": "2021-01-15T13:30:23.234727Z",
          "shell.execute_reply": "2021-01-15T13:30:23.235201Z"
        },
        "papermill": {
          "duration": 0.979011,
          "end_time": "2021-01-15T13:30:23.235348",
          "exception": false,
          "start_time": "2021-01-15T13:30:22.256337",
          "status": "completed"
        },
        "tags": [],
        "id": "bhDP_YRFamSE",
        "colab": {
          "base_uri": "https://localhost:8080/",
          "height": 302
        },
        "outputId": "41477b51-4e13-4b03-dddc-036edfa82ac0"
      },
      "outputs": [
        {
          "output_type": "execute_result",
          "data": {
            "text/plain": [
              "<matplotlib.axes._subplots.AxesSubplot at 0x7f78af5c57d0>"
            ]
          },
          "metadata": {},
          "execution_count": 17
        },
        {
          "output_type": "display_data",
          "data": {
            "text/plain": [
              "<Figure size 432x288 with 1 Axes>"
            ],
            "image/png": "[encoded data removed]"
          },
          "metadata": {}
        }
      ],
      "source": [
        "import seaborn as sns\n",
        "sns.set(style=\"darkgrid\")\n",
        "sns.countplot(x=\"label\", data=train)"
      ]
    },
    {
      "cell_type": "code",
      "execution_count": null,
      "metadata": {
        "execution": {
          "iopub.execute_input": "2021-01-15T13:30:23.302049Z",
          "iopub.status.busy": "2021-01-15T13:30:23.301407Z",
          "iopub.status.idle": "2021-01-15T13:30:23.703886Z",
          "shell.execute_reply": "2021-01-15T13:30:23.704410Z"
        },
        "papermill": {
          "duration": 0.438331,
          "end_time": "2021-01-15T13:30:23.704571",
          "exception": false,
          "start_time": "2021-01-15T13:30:23.266240",
          "status": "completed"
        },
        "tags": [],
        "id": "jVjYxWvZamSE",
        "colab": {
          "base_uri": "https://localhost:8080/",
          "height": 502
        },
        "outputId": "b641189a-6ff2-416f-e0d4-fc979d5c7153"
      },
      "outputs": [
        {
          "output_type": "execute_result",
          "data": {
            "text/plain": [
              "<matplotlib.axes._subplots.AxesSubplot at 0x7f78af4e59d0>"
            ]
          },
          "metadata": {},
          "execution_count": 18
        },
        {
          "output_type": "display_data",
          "data": {
            "text/plain": [
              "<Figure size 720x576 with 1 Axes>"
            ],
            "image/png": "[encoded data removed]"
          },
          "metadata": {}
        }
      ],
      "source": [
        "train['number_of_words'].plot(bins=50, kind='hist',figsize = (10,8)) "
      ]
    },
    {
      "cell_type": "code",
      "execution_count": null,
      "metadata": {
        "execution": {
          "iopub.execute_input": "2021-01-15T13:30:23.774728Z",
          "iopub.status.busy": "2021-01-15T13:30:23.773936Z",
          "iopub.status.idle": "2021-01-15T13:30:24.352525Z",
          "shell.execute_reply": "2021-01-15T13:30:24.352944Z"
        },
        "papermill": {
          "duration": 0.616074,
          "end_time": "2021-01-15T13:30:24.353059",
          "exception": false,
          "start_time": "2021-01-15T13:30:23.736985",
          "status": "completed"
        },
        "tags": [],
        "id": "QmHsmJ3VamSE",
        "colab": {
          "base_uri": "https://localhost:8080/",
          "height": 453
        },
        "outputId": "b255aa09-6ff5-4549-8d9b-d71a23229e44"
      },
      "outputs": [
        {
          "output_type": "execute_result",
          "data": {
            "text/plain": [
              "array([<matplotlib.axes._subplots.AxesSubplot object at 0x7f78a19ad4d0>,\n",
              "       <matplotlib.axes._subplots.AxesSubplot object at 0x7f78a19d6810>],\n",
              "      dtype=object)"
            ]
          },
          "metadata": {},
          "execution_count": 19
        },
        {
          "output_type": "display_data",
          "data": {
            "text/plain": [
              "<Figure size 1008x432 with 2 Axes>"
            ],
            "image/png": "[encoded data removed]"
          },
          "metadata": {}
        }
      ],
      "source": [
        "train.hist(column='number_of_words', by='label',\n",
        "           bins=50,figsize=(14,6))"
      ]
    },
    {
      "cell_type": "markdown",
      "metadata": {
        "papermill": {
          "duration": 0.032069,
          "end_time": "2021-01-15T13:30:24.417635",
          "exception": false,
          "start_time": "2021-01-15T13:30:24.385566",
          "status": "completed"
        },
        "tags": [],
        "id": "CWaccs0kamSE"
      },
      "source": [
        "# *Data Preprocessing*"
      ]
    },
    {
      "cell_type": "code",
      "execution_count": null,
      "metadata": {
        "execution": {
          "iopub.execute_input": "2021-01-15T13:30:24.489424Z",
          "iopub.status.busy": "2021-01-15T13:30:24.488095Z",
          "iopub.status.idle": "2021-01-15T13:30:25.186713Z",
          "shell.execute_reply": "2021-01-15T13:30:25.185771Z"
        },
        "papermill": {
          "duration": 0.737468,
          "end_time": "2021-01-15T13:30:25.186816",
          "exception": false,
          "start_time": "2021-01-15T13:30:24.449348",
          "status": "completed"
        },
        "tags": [],
        "id": "BYnx96DwamSF",
        "colab": {
          "base_uri": "https://localhost:8080/"
        },
        "outputId": "5077601e-78db-422b-8e75-9dfc2d16a79b"
      },
      "outputs": [
        {
          "output_type": "stream",
          "name": "stdout",
          "text": [
            "[nltk_data] Downloading package stopwords to /root/nltk_data...\n",
            "[nltk_data]   Unzipping corpora/stopwords.zip.\n"
          ]
        }
      ],
      "source": [
        "import re\n",
        "\n",
        "import nltk\n",
        "\n",
        "def remove_url(text):\n",
        "     url=re.compile(r\"https?://\\S+|www\\.\\S+\")\n",
        "     return url.sub(r\" \",text)\n",
        "\n",
        "def remove_html(text):\n",
        "  cleanr = re.compile('<.*?>')\n",
        "  return cleanr.sub(r\" \",text)\n",
        "\n",
        "\n",
        "\n",
        "def remove_num(texts):\n",
        "   output = re.sub(r'\\d+', '', texts)\n",
        "   return output\n",
        "\n",
        "\n",
        "import string\n",
        "def remove_punc(text):\n",
        "   table=str.maketrans(' ',' ',string.punctuation)\n",
        "   return text.translate(table)\n",
        "\n",
        "\n",
        "\n",
        "nltk.download('stopwords')\n",
        "from nltk.corpus import stopwords\n",
        "stop=set(stopwords.words(\"english\"))\n",
        " \n",
        "def remove_stopword(text):\n",
        "   text=[word.lower() for word in text.split() if word.lower() not in stop]\n",
        "   return \" \".join(text)"
      ]
    },
    {
      "cell_type": "code",
      "execution_count": null,
      "metadata": {
        "execution": {
          "iopub.execute_input": "2021-01-15T13:30:25.277519Z",
          "iopub.status.busy": "2021-01-15T13:30:25.260115Z",
          "iopub.status.idle": "2021-01-15T13:30:31.879245Z",
          "shell.execute_reply": "2021-01-15T13:30:31.878742Z"
        },
        "papermill": {
          "duration": 6.660549,
          "end_time": "2021-01-15T13:30:31.879341",
          "exception": false,
          "start_time": "2021-01-15T13:30:25.218792",
          "status": "completed"
        },
        "tags": [],
        "id": "C7wiI8GYamSF"
      },
      "outputs": [],
      "source": [
        "train['text']=train.text.map(lambda x:remove_url(x))\n",
        "train['text']=train.text.map(lambda x:remove_html(x))\n",
        "train['text']=train.text.map(lambda x:remove_punc(x))\n",
        "train['text']=train['text'].map(remove_num)\n",
        "train['text']=train['text'].map(remove_stopword)"
      ]
    },
    {
      "cell_type": "code",
      "execution_count": null,
      "metadata": {
        "execution": {
          "iopub.execute_input": "2021-01-15T13:30:31.986599Z",
          "iopub.status.busy": "2021-01-15T13:30:31.971182Z",
          "iopub.status.idle": "2021-01-15T13:30:33.200047Z",
          "shell.execute_reply": "2021-01-15T13:30:33.199552Z"
        },
        "papermill": {
          "duration": 1.288407,
          "end_time": "2021-01-15T13:30:33.200144",
          "exception": false,
          "start_time": "2021-01-15T13:30:31.911737",
          "status": "completed"
        },
        "tags": [],
        "id": "FV_wG0zxamSG"
      },
      "outputs": [],
      "source": [
        "test['text']=test.text.map(lambda x:remove_url(x))\n",
        "test['text']=test.text.map(lambda x:remove_html(x))\n",
        "test['text']=test.text.map(lambda x:remove_punc(x))\n",
        "test['text']=test['text'].map(remove_num)\n",
        "test['text']=test['text'].map(remove_stopword)"
      ]
    },
    {
      "cell_type": "code",
      "execution_count": null,
      "metadata": {
        "execution": {
          "iopub.execute_input": "2021-01-15T13:30:33.272132Z",
          "iopub.status.busy": "2021-01-15T13:30:33.271568Z",
          "iopub.status.idle": "2021-01-15T13:30:33.274871Z",
          "shell.execute_reply": "2021-01-15T13:30:33.274440Z"
        },
        "papermill": {
          "duration": 0.04135,
          "end_time": "2021-01-15T13:30:33.274954",
          "exception": false,
          "start_time": "2021-01-15T13:30:33.233604",
          "status": "completed"
        },
        "tags": [],
        "id": "RxXuyCwKamSG",
        "colab": {
          "base_uri": "https://localhost:8080/"
        },
        "outputId": "1ea459d9-e27e-473e-ff96-c5674507a473"
      },
      "outputs": [
        {
          "output_type": "stream",
          "name": "stdout",
          "text": [
            "[nltk_data] Downloading package punkt to /root/nltk_data...\n",
            "[nltk_data]   Unzipping tokenizers/punkt.zip.\n"
          ]
        }
      ],
      "source": [
        "\n",
        "import nltk\n",
        "nltk.download('punkt')\n",
        "def Stemming(text):\n",
        "   stem=[]\n",
        "   from nltk.corpus import stopwords\n",
        "   from nltk.stem import SnowballStemmer\n",
        "  #is based on The Porter Stemming Algorithm\n",
        "   stopword = stopwords.words('english')\n",
        "   snowball_stemmer = SnowballStemmer('english')\n",
        "   word_tokens = nltk.word_tokenize(text)\n",
        "   stemmed_word = [snowball_stemmer.stem(word) for word in word_tokens]\n",
        "   stem=' '.join(stemmed_word)\n",
        "   return stem"
      ]
    },
    {
      "cell_type": "code",
      "execution_count": null,
      "metadata": {
        "execution": {
          "iopub.execute_input": "2021-01-15T13:30:33.344272Z",
          "iopub.status.busy": "2021-01-15T13:30:33.342478Z",
          "iopub.status.idle": "2021-01-15T13:32:50.480908Z",
          "shell.execute_reply": "2021-01-15T13:32:50.480232Z"
        },
        "papermill": {
          "duration": 137.174069,
          "end_time": "2021-01-15T13:32:50.481028",
          "exception": false,
          "start_time": "2021-01-15T13:30:33.306959",
          "status": "completed"
        },
        "tags": [],
        "id": "xgNtmL7OamSG"
      },
      "outputs": [],
      "source": [
        "\n",
        "train['text']=train['text'].map(Stemming)"
      ]
    },
    {
      "cell_type": "code",
      "execution_count": null,
      "metadata": {
        "execution": {
          "iopub.execute_input": "2021-01-15T13:32:50.552914Z",
          "iopub.status.busy": "2021-01-15T13:32:50.552137Z",
          "iopub.status.idle": "2021-01-15T13:33:18.126439Z",
          "shell.execute_reply": "2021-01-15T13:33:18.124911Z"
        },
        "papermill": {
          "duration": 27.611836,
          "end_time": "2021-01-15T13:33:18.126548",
          "exception": false,
          "start_time": "2021-01-15T13:32:50.514712",
          "status": "completed"
        },
        "tags": [],
        "id": "Voq76OdiamSG"
      },
      "outputs": [],
      "source": [
        "\n",
        "test['text']=test['text'].map(Stemming)"
      ]
    },
    {
      "cell_type": "code",
      "execution_count": null,
      "metadata": {
        "execution": {
          "iopub.execute_input": "2021-01-15T13:33:18.195440Z",
          "iopub.status.busy": "2021-01-15T13:33:18.194748Z",
          "iopub.status.idle": "2021-01-15T13:33:22.613398Z",
          "shell.execute_reply": "2021-01-15T13:33:22.612906Z"
        },
        "papermill": {
          "duration": 4.454476,
          "end_time": "2021-01-15T13:33:22.613525",
          "exception": false,
          "start_time": "2021-01-15T13:33:18.159049",
          "status": "completed"
        },
        "scrolled": true,
        "tags": [],
        "id": "BSouFksGamSG"
      },
      "outputs": [],
      "source": [
        "import tensorflow as tf\n"
      ]
    },
    {
      "cell_type": "markdown",
      "metadata": {
        "papermill": {
          "duration": 0.047707,
          "end_time": "2021-01-15T13:33:22.694932",
          "exception": false,
          "start_time": "2021-01-15T13:33:22.647225",
          "status": "completed"
        },
        "tags": [],
        "id": "k-db9I2TamSH"
      },
      "source": [
        "#  ***Word Embedding***"
      ]
    },
    {
      "cell_type": "code",
      "execution_count": null,
      "metadata": {
        "execution": {
          "iopub.execute_input": "2021-01-15T13:33:22.778182Z",
          "iopub.status.busy": "2021-01-15T13:33:22.777530Z",
          "iopub.status.idle": "2021-01-15T13:33:22.781279Z",
          "shell.execute_reply": "2021-01-15T13:33:22.780826Z"
        },
        "papermill": {
          "duration": 0.042237,
          "end_time": "2021-01-15T13:33:22.781385",
          "exception": false,
          "start_time": "2021-01-15T13:33:22.739148",
          "status": "completed"
        },
        "scrolled": true,
        "tags": [],
        "id": "RzMsUmZeamSH"
      },
      "outputs": [],
      "source": [
        "max_length=100\n",
        "vocab_size=12000\n",
        "embedding_dim=64\n",
        "trunc_type=\"post\"\n",
        "oov_tok=\"<OOV>\"\n",
        "padding_type=\"post\"\n",
        "from tensorflow.keras.preprocessing.text import Tokenizer\n",
        "from tensorflow.keras.preprocessing.sequence import pad_sequences"
      ]
    },
    {
      "cell_type": "code",
      "execution_count": null,
      "metadata": {
        "execution": {
          "iopub.execute_input": "2021-01-15T13:33:22.875684Z",
          "iopub.status.busy": "2021-01-15T13:33:22.860312Z",
          "iopub.status.idle": "2021-01-15T13:33:32.693177Z",
          "shell.execute_reply": "2021-01-15T13:33:32.692088Z"
        },
        "papermill": {
          "duration": 9.878635,
          "end_time": "2021-01-15T13:33:32.693292",
          "exception": false,
          "start_time": "2021-01-15T13:33:22.814657",
          "status": "completed"
        },
        "scrolled": true,
        "tags": [],
        "id": "-nIdgrXmamSH"
      },
      "outputs": [],
      "source": [
        "tokenizer = Tokenizer(num_words=vocab_size,oov_token=oov_tok)\n",
        "tokenizer.fit_on_texts(train['text'])\n",
        "\n",
        "word_index = tokenizer.word_index\n",
        "\n",
        "training_sequences = tokenizer.texts_to_sequences(train['text'])\n",
        "training_padded = pad_sequences(training_sequences, maxlen=max_length, padding=padding_type, truncating=trunc_type)\n",
        "testing_sequences = tokenizer.texts_to_sequences(test['text'])\n",
        "testing_padded = pad_sequences(testing_sequences, maxlen=max_length, padding=padding_type, truncating=trunc_type)\n"
      ]
    },
    {
      "cell_type": "code",
      "execution_count": null,
      "metadata": {
        "execution": {
          "iopub.execute_input": "2021-01-15T13:33:32.767449Z",
          "iopub.status.busy": "2021-01-15T13:33:32.766565Z",
          "iopub.status.idle": "2021-01-15T13:33:32.769316Z",
          "shell.execute_reply": "2021-01-15T13:33:32.769732Z"
        },
        "papermill": {
          "duration": 0.04326,
          "end_time": "2021-01-15T13:33:32.769833",
          "exception": false,
          "start_time": "2021-01-15T13:33:32.726573",
          "status": "completed"
        },
        "tags": [],
        "id": "w4yUjAZMamSH",
        "colab": {
          "base_uri": "https://localhost:8080/"
        },
        "outputId": "3d3fde55-3720-43f3-b7e9-3d07d83b343d"
      },
      "outputs": [
        {
          "output_type": "execute_result",
          "data": {
            "text/plain": [
              "array([  25,  805,   51,  181,   52,    6,   86,   49,   45,   25,  113,\n",
              "        805,  483,  309,  101,   49, 2068,  161,    1,    1,    1, 1069,\n",
              "        735,   43, 1571,   52,  111,   29,  173,  315, 1829,    1,  132,\n",
              "       2734,  160, 7108,  112,   45,   31,   23,   37,   21,   75,    3,\n",
              "         90,   11,  100,   93, 2076,    0,    0,    0,    0,    0,    0,\n",
              "          0,    0,    0,    0,    0,    0,    0,    0,    0,    0,    0,\n",
              "          0,    0,    0,    0,    0,    0,    0,    0,    0,    0,    0,\n",
              "          0,    0,    0,    0,    0,    0,    0,    0,    0,    0,    0,\n",
              "          0,    0,    0,    0,    0,    0,    0,    0,    0,    0,    0,\n",
              "          0], dtype=int32)"
            ]
          },
          "metadata": {},
          "execution_count": 29
        }
      ],
      "source": [
        "training_padded[1]"
      ]
    },
    {
      "cell_type": "code",
      "execution_count": null,
      "metadata": {
        "execution": {
          "iopub.execute_input": "2021-01-15T13:33:32.840839Z",
          "iopub.status.busy": "2021-01-15T13:33:32.840049Z",
          "iopub.status.idle": "2021-01-15T13:33:32.845778Z",
          "shell.execute_reply": "2021-01-15T13:33:32.844962Z"
        },
        "papermill": {
          "duration": 0.043157,
          "end_time": "2021-01-15T13:33:32.845901",
          "exception": false,
          "start_time": "2021-01-15T13:33:32.802744",
          "status": "completed"
        },
        "tags": [],
        "id": "cxihJ5VkamSH",
        "colab": {
          "base_uri": "https://localhost:8080/"
        },
        "outputId": "3ce1535f-ff3e-4231-e2d7-b4325f1ae6d0"
      },
      "outputs": [
        {
          "output_type": "stream",
          "name": "stdout",
          "text": [
            "[1, 20, 1, 74, 193, 173, 1072, 1, 317, 22, 11, 1222, 20, 57, 348, 9334, 113, 43, 67, 113, 1, 1298, 113, 51, 67, 25, 43, 60, 179, 2987, 1976, 72, 11607, 788, 2075, 692, 741, 3169, 11, 459, 125, 245, 111]\n"
          ]
        }
      ],
      "source": [
        "print(training_sequences[0])"
      ]
    },
    {
      "cell_type": "code",
      "execution_count": null,
      "metadata": {
        "execution": {
          "iopub.execute_input": "2021-01-15T13:33:32.921295Z",
          "iopub.status.busy": "2021-01-15T13:33:32.920780Z",
          "iopub.status.idle": "2021-01-15T13:33:33.035808Z",
          "shell.execute_reply": "2021-01-15T13:33:33.036228Z"
        },
        "papermill": {
          "duration": 0.155474,
          "end_time": "2021-01-15T13:33:33.036333",
          "exception": false,
          "start_time": "2021-01-15T13:33:32.880859",
          "status": "completed"
        },
        "tags": [],
        "id": "nrMiX963amSH"
      },
      "outputs": [],
      "source": [
        "\n",
        "from keras.models import Sequential\n",
        "from keras.layers import Dense, Dropout, Activation\n",
        "from keras.layers.embeddings import Embedding\n",
        "from keras.layers.recurrent import LSTM,GRU\n",
        "from keras.preprocessing import sequence\n",
        "from sklearn.metrics import f1_score, roc_auc_score, accuracy_score    \n",
        "from tensorflow.python.keras import models, layers, optimizers   \n",
        "from keras.layers import Conv1D, MaxPooling1D, GlobalMaxPooling1D, SpatialDropout1D\n",
        "from keras.layers.wrappers import Bidirectional\n",
        "from tensorflow.keras.optimizers import Adam\n",
        "from keras.callbacks import ModelCheckpoint\n",
        "from keras.callbacks import EarlyStopping"
      ]
    },
    {
      "cell_type": "markdown",
      "metadata": {
        "papermill": {
          "duration": 0.034224,
          "end_time": "2021-01-15T13:33:33.104839",
          "exception": false,
          "start_time": "2021-01-15T13:33:33.070615",
          "status": "completed"
        },
        "tags": [],
        "id": "1_seaE4damSI"
      },
      "source": [
        "# *Bidirectional LSTM Model*"
      ]
    },
    {
      "cell_type": "code",
      "execution_count": null,
      "metadata": {
        "execution": {
          "iopub.execute_input": "2021-01-15T13:33:33.178993Z",
          "iopub.status.busy": "2021-01-15T13:33:33.178402Z",
          "iopub.status.idle": "2021-01-15T13:33:36.522895Z",
          "shell.execute_reply": "2021-01-15T13:33:36.523676Z"
        },
        "papermill": {
          "duration": 3.384393,
          "end_time": "2021-01-15T13:33:36.523822",
          "exception": false,
          "start_time": "2021-01-15T13:33:33.139429",
          "status": "completed"
        },
        "tags": [],
        "id": "BymAJ4r0amSI",
        "colab": {
          "base_uri": "https://localhost:8080/"
        },
        "outputId": "9370ef82-e15c-4129-bd18-a9fcccf113fe"
      },
      "outputs": [
        {
          "output_type": "stream",
          "name": "stdout",
          "text": [
            "Model: \"sequential\"\n",
            "_________________________________________________________________\n",
            " Layer (type)                Output Shape              Param #   \n",
            "=================================================================\n",
            " embedding (Embedding)       (None, 100, 64)           768000    \n",
            "                                                                 \n",
            " spatial_dropout1d (SpatialD  (None, 100, 64)          0         \n",
            " ropout1D)                                                       \n",
            "                                                                 \n",
            " bidirectional (Bidirectiona  (None, 512)              657408    \n",
            " l)                                                              \n",
            "                                                                 \n",
            " dense (Dense)               (None, 1)                 513       \n",
            "                                                                 \n",
            " activation (Activation)     (None, 1)                 0         \n",
            "                                                                 \n",
            "=================================================================\n",
            "Total params: 1,425,921\n",
            "Trainable params: 1,425,921\n",
            "Non-trainable params: 0\n",
            "_________________________________________________________________\n"
          ]
        }
      ],
      "source": [
        "model = Sequential()\n",
        "model.add(Embedding(vocab_size, embedding_dim, input_length=max_length))\n",
        "model.add(SpatialDropout1D(0.2))\n",
        "model.add(Bidirectional(LSTM(256, dropout=0.2)))\n",
        "model.add(Dense(1))\n",
        "model.add(Activation('sigmoid'))\n",
        "model.summary()\n",
        "\n",
        "\n"
      ]
    },
    {
      "cell_type": "code",
      "execution_count": null,
      "metadata": {
        "execution": {
          "iopub.execute_input": "2021-01-15T13:33:36.597201Z",
          "iopub.status.busy": "2021-01-15T13:33:36.596703Z",
          "iopub.status.idle": "2021-01-15T13:33:36.605078Z",
          "shell.execute_reply": "2021-01-15T13:33:36.604542Z"
        },
        "papermill": {
          "duration": 0.046196,
          "end_time": "2021-01-15T13:33:36.605177",
          "exception": false,
          "start_time": "2021-01-15T13:33:36.558981",
          "status": "completed"
        },
        "tags": [],
        "id": "2EYJj5ElamSI",
        "colab": {
          "base_uri": "https://localhost:8080/"
        },
        "outputId": "70559c15-6bce-4eb5-da86-a6ae55e94246"
      },
      "outputs": [
        {
          "output_type": "stream",
          "name": "stderr",
          "text": [
            "/usr/local/lib/python3.7/dist-packages/keras/optimizer_v2/adam.py:105: UserWarning: The `lr` argument is deprecated, use `learning_rate` instead.\n",
            "  super(Adam, self).__init__(name, **kwargs)\n"
          ]
        }
      ],
      "source": [
        "adam=Adam(lr=0.0001)"
      ]
    },
    {
      "cell_type": "code",
      "execution_count": null,
      "metadata": {
        "execution": {
          "iopub.execute_input": "2021-01-15T13:33:36.689981Z",
          "iopub.status.busy": "2021-01-15T13:33:36.689076Z",
          "iopub.status.idle": "2021-01-15T13:33:36.709754Z",
          "shell.execute_reply": "2021-01-15T13:33:36.709312Z"
        },
        "papermill": {
          "duration": 0.06139,
          "end_time": "2021-01-15T13:33:36.709841",
          "exception": false,
          "start_time": "2021-01-15T13:33:36.648451",
          "status": "completed"
        },
        "tags": [],
        "id": "jjWqmdb4amSI"
      },
      "outputs": [],
      "source": [
        "\n",
        "model.compile(loss='binary_crossentropy',optimizer=adam,metrics=['accuracy'] )"
      ]
    },
    {
      "cell_type": "code",
      "execution_count": null,
      "metadata": {
        "execution": {
          "iopub.execute_input": "2021-01-15T13:33:36.786988Z",
          "iopub.status.busy": "2021-01-15T13:33:36.785983Z",
          "iopub.status.idle": "2021-01-15T14:00:32.206436Z",
          "shell.execute_reply": "2021-01-15T14:00:32.205932Z"
        },
        "papermill": {
          "duration": 1615.462006,
          "end_time": "2021-01-15T14:00:32.206546",
          "exception": false,
          "start_time": "2021-01-15T13:33:36.744540",
          "status": "completed"
        },
        "tags": [],
        "id": "S2ERhuFMamSI",
        "colab": {
          "base_uri": "https://localhost:8080/"
        },
        "outputId": "5d53da67-f225-4ff0-eb27-f09edb7b96c2"
      },
      "outputs": [
        {
          "output_type": "stream",
          "name": "stdout",
          "text": [
            "Epoch 1/15\n",
            "391/391 [==============================] - 1088s 3s/step - loss: 0.5217 - accuracy: 0.7226 - val_loss: 0.3620 - val_accuracy: 0.8501\n",
            "Epoch 2/15\n",
            "391/391 [==============================] - 1172s 3s/step - loss: 0.3406 - accuracy: 0.8575 - val_loss: 0.3208 - val_accuracy: 0.8662\n",
            "Epoch 3/15\n",
            "391/391 [==============================] - 1176s 3s/step - loss: 0.2983 - accuracy: 0.8772 - val_loss: 0.3046 - val_accuracy: 0.8717\n",
            "Epoch 4/15\n",
            "391/391 [==============================] - 1165s 3s/step - loss: 0.2770 - accuracy: 0.8875 - val_loss: 0.2940 - val_accuracy: 0.8765\n",
            "Epoch 5/15\n",
            "391/391 [==============================] - 1172s 3s/step - loss: 0.2595 - accuracy: 0.8956 - val_loss: 0.2883 - val_accuracy: 0.8798\n",
            "Epoch 6/15\n",
            "391/391 [==============================] - 1169s 3s/step - loss: 0.2486 - accuracy: 0.9003 - val_loss: 0.2829 - val_accuracy: 0.8823\n",
            "Epoch 7/15\n",
            "391/391 [==============================] - 1161s 3s/step - loss: 0.2398 - accuracy: 0.9043 - val_loss: 0.2800 - val_accuracy: 0.8834\n",
            "Epoch 8/15\n",
            "391/391 [==============================] - 1157s 3s/step - loss: 0.2327 - accuracy: 0.9073 - val_loss: 0.2817 - val_accuracy: 0.8845\n",
            "Epoch 9/15\n",
            "391/391 [==============================] - 1157s 3s/step - loss: 0.2267 - accuracy: 0.9092 - val_loss: 0.2857 - val_accuracy: 0.8832\n",
            "Epoch 10/15\n",
            "391/391 [==============================] - 1158s 3s/step - loss: 0.2224 - accuracy: 0.9113 - val_loss: 0.2831 - val_accuracy: 0.8842\n"
          ]
        }
      ],
      "source": [
        "\n",
        "history=model.fit(training_padded,train['label'], epochs=15, batch_size=256,verbose = 1,callbacks = [EarlyStopping(monitor='val_accuracy', patience=2)],validation_data=(testing_padded,test['label']))"
      ]
    },
    {
      "cell_type": "code",
      "execution_count": null,
      "metadata": {
        "execution": {
          "iopub.execute_input": "2021-01-15T14:00:34.817791Z",
          "iopub.status.busy": "2021-01-15T14:00:34.817084Z",
          "iopub.status.idle": "2021-01-15T14:00:35.298288Z",
          "shell.execute_reply": "2021-01-15T14:00:35.298758Z"
        },
        "papermill": {
          "duration": 1.655023,
          "end_time": "2021-01-15T14:00:35.298878",
          "exception": false,
          "start_time": "2021-01-15T14:00:33.643855",
          "status": "completed"
        },
        "tags": [],
        "id": "IGCKxg1RamSI",
        "colab": {
          "base_uri": "https://localhost:8080/",
          "height": 553
        },
        "outputId": "80fba213-dbbe-4bed-cff2-b021556f2b17"
      },
      "outputs": [
        {
          "output_type": "display_data",
          "data": {
            "text/plain": [
              "<Figure size 432x288 with 1 Axes>"
            ],
            "image/png": "[encoded data removed]"
          },
          "metadata": {}
        },
        {
          "output_type": "display_data",
          "data": {
            "text/plain": [
              "<Figure size 432x288 with 1 Axes>"
            ],
            "image/png": "[encoded data removed]"
          },
          "metadata": {}
        }
      ],
      "source": [
        "import matplotlib.pyplot as plt\n",
        "\n",
        "\n",
        "def plot_graphs(history, string):\n",
        "  plt.plot(history.history[string])\n",
        "  plt.plot(history.history['val_'+string])\n",
        "  plt.xlabel(\"Epochs\")\n",
        "  plt.ylabel(string)\n",
        "  plt.legend([string, 'val_'+string])\n",
        "  plt.show()\n",
        "  \n",
        "plot_graphs(history, \"accuracy\")\n",
        "plot_graphs(history, \"loss\")"
      ]
    },
    {
      "cell_type": "code",
      "execution_count": null,
      "metadata": {
        "execution": {
          "iopub.execute_input": "2021-01-15T14:00:37.639060Z",
          "iopub.status.busy": "2021-01-15T14:00:37.638273Z",
          "iopub.status.idle": "2021-01-15T14:00:37.641857Z",
          "shell.execute_reply": "2021-01-15T14:00:37.641421Z"
        },
        "papermill": {
          "duration": 1.154158,
          "end_time": "2021-01-15T14:00:37.641957",
          "exception": false,
          "start_time": "2021-01-15T14:00:36.487799",
          "status": "completed"
        },
        "tags": [],
        "id": "xZRRy2htamSJ"
      },
      "outputs": [],
      "source": [
        "def Review(sentence):\n",
        "   sequences = tokenizer.texts_to_sequences(sentence)\n",
        "   padded = pad_sequences(sequences, maxlen=max_length, padding=padding_type, truncating=trunc_type)\n",
        "\n",
        "   prob=model.predict(padded)\n",
        "   if prob>=0.8:\n",
        "     print(5)\n",
        "   elif prob>=0.6:\n",
        "     print(4)\n",
        "   elif prob>=0.4:\n",
        "     print(3) \n",
        "   elif prob>=0.2:\n",
        "     print(2)   \n",
        "   else:\n",
        "       print(1)"
      ]
    },
    {
      "cell_type": "code",
      "execution_count": null,
      "metadata": {
        "execution": {
          "iopub.execute_input": "2021-01-15T14:00:39.889795Z",
          "iopub.status.busy": "2021-01-15T14:00:39.888966Z",
          "iopub.status.idle": "2021-01-15T14:00:40.338717Z",
          "shell.execute_reply": "2021-01-15T14:00:40.340144Z"
        },
        "papermill": {
          "duration": 1.584263,
          "end_time": "2021-01-15T14:00:40.340343",
          "exception": false,
          "start_time": "2021-01-15T14:00:38.756080",
          "status": "completed"
        },
        "tags": [],
        "id": "OisfFyIZamSJ",
        "colab": {
          "base_uri": "https://localhost:8080/"
        },
        "outputId": "ab55b5e4-1867-478e-8eba-c878524ffcd0"
      },
      "outputs": [
        {
          "output_type": "stream",
          "name": "stdout",
          "text": [
            "5\n"
          ]
        }
      ],
      "source": [
        "sentence=['Good Product + exactly in size']\n",
        "Review(sentence)"
      ]
    },
    {
      "cell_type": "code",
      "execution_count": null,
      "metadata": {
        "execution": {
          "iopub.execute_input": "2021-01-15T14:00:43.262118Z",
          "iopub.status.busy": "2021-01-15T14:00:43.261276Z",
          "iopub.status.idle": "2021-01-15T14:00:43.291083Z",
          "shell.execute_reply": "2021-01-15T14:00:43.290567Z"
        },
        "papermill": {
          "duration": 1.631118,
          "end_time": "2021-01-15T14:00:43.291182",
          "exception": false,
          "start_time": "2021-01-15T14:00:41.660064",
          "status": "completed"
        },
        "tags": [],
        "id": "aJYOC3itamSJ",
        "colab": {
          "base_uri": "https://localhost:8080/"
        },
        "outputId": "d47336db-33c0-4be0-eb42-f33dc6354660"
      },
      "outputs": [
        {
          "output_type": "stream",
          "name": "stdout",
          "text": [
            "1\n"
          ]
        }
      ],
      "source": [
        "sentence=['this is worst thing donot buy it']\n",
        "Review(sentence)"
      ]
    },
    {
      "cell_type": "code",
      "execution_count": null,
      "metadata": {
        "execution": {
          "iopub.execute_input": "2021-01-15T14:00:46.162083Z",
          "iopub.status.busy": "2021-01-15T14:00:46.161233Z",
          "iopub.status.idle": "2021-01-15T14:01:01.887221Z",
          "shell.execute_reply": "2021-01-15T14:01:01.886506Z"
        },
        "papermill": {
          "duration": 17.131261,
          "end_time": "2021-01-15T14:01:01.887352",
          "exception": false,
          "start_time": "2021-01-15T14:00:44.756091",
          "status": "completed"
        },
        "tags": [],
        "id": "hTZS_8D9amSJ"
      },
      "outputs": [],
      "source": [
        "# Predicting the Test set results\n",
        "y_pred = model.predict(testing_padded)\n",
        "y_pred = (y_pred > 0.5)\n",
        "X_test=testing_padded\n",
        "y_test=test['label']"
      ]
    },
    {
      "cell_type": "code",
      "execution_count": null,
      "metadata": {
        "execution": {
          "iopub.execute_input": "2021-01-15T14:01:04.145261Z",
          "iopub.status.busy": "2021-01-15T14:01:04.144726Z",
          "iopub.status.idle": "2021-01-15T14:01:04.149155Z",
          "shell.execute_reply": "2021-01-15T14:01:04.148712Z"
        },
        "papermill": {
          "duration": 1.135519,
          "end_time": "2021-01-15T14:01:04.149246",
          "exception": false,
          "start_time": "2021-01-15T14:01:03.013727",
          "status": "completed"
        },
        "tags": [],
        "id": "SxVJW5FKamSJ"
      },
      "outputs": [],
      "source": [
        "from sklearn.metrics import accuracy_score,precision_score,recall_score,f1_score,roc_auc_score,confusion_matrix"
      ]
    },
    {
      "cell_type": "code",
      "execution_count": null,
      "metadata": {
        "execution": {
          "iopub.execute_input": "2021-01-15T14:01:06.722974Z",
          "iopub.status.busy": "2021-01-15T14:01:06.722052Z",
          "iopub.status.idle": "2021-01-15T14:01:06.832963Z",
          "shell.execute_reply": "2021-01-15T14:01:06.832503Z"
        },
        "papermill": {
          "duration": 1.537439,
          "end_time": "2021-01-15T14:01:06.833058",
          "exception": false,
          "start_time": "2021-01-15T14:01:05.295619",
          "status": "completed"
        },
        "tags": [],
        "id": "gbetgIsTamSJ",
        "colab": {
          "base_uri": "https://localhost:8080/"
        },
        "outputId": "ced4af48-1620-4941-aad7-5b28479bc901"
      },
      "outputs": [
        {
          "output_type": "stream",
          "name": "stdout",
          "text": [
            "Accuracy: 0.884200\n",
            "Precision: 0.868239\n",
            "Recall: 0.911592\n",
            "F1 score: 0.889388\n",
            "ROC AUC: 0.883601\n",
            "[[8373 1413]\n",
            " [ 903 9311]]\n"
          ]
        }
      ],
      "source": [
        "accuracy = accuracy_score(y_test, y_pred)\n",
        "print('Accuracy: %f' % accuracy)\n",
        "\n",
        "precision = precision_score(y_test, y_pred)\n",
        "print('Precision: %f' % precision)\n",
        "\n",
        "recall = recall_score(y_test, y_pred)\n",
        "print('Recall: %f' % recall)\n",
        "\n",
        "f1 = f1_score(y_test, y_pred)\n",
        "print('F1 score: %f' % f1)\n",
        " \n",
        "# ROC AUC\n",
        "auc = roc_auc_score(y_test, y_pred)\n",
        "print('ROC AUC: %f' % auc)\n",
        "# confusion matrix\n",
        "matrix = confusion_matrix(y_test, y_pred)\n",
        "print(matrix)"
      ]
    },
    {
      "cell_type": "code",
      "execution_count": null,
      "metadata": {
        "execution": {
          "iopub.execute_input": "2021-01-15T14:01:09.135400Z",
          "iopub.status.busy": "2021-01-15T14:01:09.134549Z",
          "iopub.status.idle": "2021-01-15T14:01:09.171195Z",
          "shell.execute_reply": "2021-01-15T14:01:09.171591Z"
        },
        "papermill": {
          "duration": 1.169099,
          "end_time": "2021-01-15T14:01:09.171724",
          "exception": false,
          "start_time": "2021-01-15T14:01:08.002625",
          "status": "completed"
        },
        "tags": [],
        "id": "-6ofjF53amSK",
        "colab": {
          "base_uri": "https://localhost:8080/"
        },
        "outputId": "a06a3ce2-8476-4ea5-d4c3-a057a1d1fe36"
      },
      "outputs": [
        {
          "output_type": "stream",
          "name": "stdout",
          "text": [
            "              precision    recall  f1-score   support\n",
            "\n",
            "           0       0.90      0.86      0.88      9786\n",
            "           1       0.87      0.91      0.89     10214\n",
            "\n",
            "    accuracy                           0.88     20000\n",
            "   macro avg       0.89      0.88      0.88     20000\n",
            "weighted avg       0.89      0.88      0.88     20000\n",
            "\n"
          ]
        }
      ],
      "source": [
        "#Report\n",
        "from sklearn.metrics import classification_report\n",
        "print(classification_report(y_test, y_pred))"
      ]
    },
    {
      "cell_type": "code",
      "execution_count": null,
      "metadata": {
        "execution": {
          "iopub.execute_input": "2021-01-15T14:01:11.410189Z",
          "iopub.status.busy": "2021-01-15T14:01:11.409659Z",
          "iopub.status.idle": "2021-01-15T14:01:11.614653Z",
          "shell.execute_reply": "2021-01-15T14:01:11.613583Z"
        },
        "papermill": {
          "duration": 1.322931,
          "end_time": "2021-01-15T14:01:11.614752",
          "exception": false,
          "start_time": "2021-01-15T14:01:10.291821",
          "status": "completed"
        },
        "tags": [],
        "id": "ysKXXnWQamSK",
        "colab": {
          "base_uri": "https://localhost:8080/",
          "height": 286
        },
        "outputId": "de19145c-375f-426e-9323-f8f3823ed948"
      },
      "outputs": [
        {
          "output_type": "execute_result",
          "data": {
            "text/plain": [
              "<matplotlib.axes._subplots.AxesSubplot at 0x7f7826fb5910>"
            ]
          },
          "metadata": {},
          "execution_count": 44
        },
        {
          "output_type": "display_data",
          "data": {
            "text/plain": [
              "<Figure size 432x288 with 2 Axes>"
            ],
            "image/png": "[encoded data removed]"
          },
          "metadata": {}
        }
      ],
      "source": [
        "#Confusion Matrix\n",
        "import seaborn as sns\n",
        "sns.heatmap(matrix,annot=True,fmt='')"
      ]
    },
    {
      "cell_type": "code",
      "execution_count": null,
      "metadata": {
        "execution": {
          "iopub.execute_input": "2021-01-15T14:01:13.938946Z",
          "iopub.status.busy": "2021-01-15T14:01:13.938021Z",
          "iopub.status.idle": "2021-01-15T14:01:30.536106Z",
          "shell.execute_reply": "2021-01-15T14:01:30.535243Z"
        },
        "papermill": {
          "duration": 17.774394,
          "end_time": "2021-01-15T14:01:30.536208",
          "exception": false,
          "start_time": "2021-01-15T14:01:12.761814",
          "status": "completed"
        },
        "tags": [],
        "id": "Fi2I8obramSK",
        "colab": {
          "base_uri": "https://localhost:8080/",
          "height": 585
        },
        "outputId": "9de0d0c7-0d64-4c77-c472-2e94f867dff0"
      },
      "outputs": [
        {
          "output_type": "display_data",
          "data": {
            "text/plain": [
              "<Figure size 432x288 with 1 Axes>"
            ],
            "image/png": "[encoded data removed]"
          },
          "metadata": {}
        },
        {
          "output_type": "display_data",
          "data": {
            "text/plain": [
              "<Figure size 432x288 with 1 Axes>"
            ],
            "image/png": "[encoded data removed]"
          },
          "metadata": {}
        }
      ],
      "source": [
        "#ROC Curve\n",
        "\n",
        "from sklearn.metrics import roc_curve\n",
        "y_pred_keras = model.predict(X_test).ravel()\n",
        "fpr_keras, tpr_keras, thresholds_keras = roc_curve(y_test, y_pred_keras)\n",
        "\n",
        "from sklearn.metrics import auc\n",
        "auc_keras = auc(fpr_keras, tpr_keras)\n",
        "\n",
        "plt.figure(1)\n",
        "plt.plot([0, 1], [0, 1], 'k--')\n",
        "plt.plot(fpr_keras, tpr_keras, label='Keras (area = {:.3f})'.format(auc_keras))\n",
        "#plt.plot(fpr_rf, tpr_rf, label='RF (area = {:.3f})'.format(auc_rf))\n",
        "plt.xlabel('False positive rate')\n",
        "plt.ylabel('True positive rate')\n",
        "plt.title('ROC curve')\n",
        "plt.legend(loc='best')\n",
        "plt.show()\n",
        "# Zoom in view of the upper left corner.\n",
        "plt.figure(2)\n",
        "plt.xlim(0, 0.2)\n",
        "plt.ylim(0.8, 1)\n",
        "plt.plot([0, 1], [0, 1], 'k--')\n",
        "plt.plot(fpr_keras, tpr_keras, label='Keras (area = {:.3f})'.format(auc_keras))\n",
        "#plt.plot(fpr_rf, tpr_rf, label='RF (area = {:.3f})'.format(auc_rf))\n",
        "plt.xlabel('False positive rate')\n",
        "plt.ylabel('True positive rate')\n",
        "plt.title('ROC curve (zoomed in at top left)')\n",
        "plt.legend(loc='best')\n",
        "plt.show()"
      ]
    }
  ],
  "metadata": {
    "kernelspec": {
      "display_name": "Python 3",
      "language": "python",
      "name": "python3"
    },
    "language_info": {
      "codemirror_mode": {
        "name": "ipython",
        "version": 3
      },
      "file_extension": ".py",
      "mimetype": "text/x-python",
      "name": "python",
      "nbconvert_exporter": "python",
      "pygments_lexer": "ipython3",
      "version": "3.7.6"
    },
    "papermill": {
      "duration": 1988.600407,
      "end_time": "2021-01-15T14:01:38.152322",
      "environment_variables": {},
      "exception": null,
      "input_path": "__notebook__.ipynb",
      "output_path": "__notebook__.ipynb",
      "parameters": {},
      "start_time": "2021-01-15T13:28:29.551915",
      "version": "2.1.0"
    },
    "colab": {
      "name": "amazon-reviews-for-sentiment-analysis.ipynb",
      "provenance": [],
      "collapsed_sections": []
    }
  },
  "nbformat": 4,
  "nbformat_minor": 0
}